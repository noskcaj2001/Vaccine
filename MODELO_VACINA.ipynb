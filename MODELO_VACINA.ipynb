{
 "cells": [
  {
   "cell_type": "markdown",
   "metadata": {},
   "source": [
    "# Nome : Projeto Vacinação H1N1 e Gripe sazonal "
   ]
  },
  {
   "cell_type": "markdown",
   "metadata": {},
   "source": [
    "------------------------------------------------------------------------------------------------------------------------------------------------------------------------------------------------------------"
   ]
  },
  {
   "cell_type": "markdown",
   "metadata": {},
   "source": [
    "### Tabela de conteúdo :\n",
    "\n",
    "- I - Introdução\n",
    "- II - Dicionário de Dados\n",
    "- III - Importando Libnames\n",
    "- IV - EDA - Análise exploratória de dados\n"
   ]
  },
  {
   "cell_type": "markdown",
   "metadata": {},
   "source": [
    "------------------------------------------------------------------------------------------------------------------------------------------------------------------------------------------------------------"
   ]
  },
  {
   "cell_type": "markdown",
   "metadata": {},
   "source": [
    "# 01 Introdução"
   ]
  },
  {
   "cell_type": "markdown",
   "metadata": {},
   "source": [
    "# `Objetivo é prever a probabilidade de os indivíduos receberem as vacinas contra o H1N1 e a gripe sazonal.`"
   ]
  },
  {
   "cell_type": "markdown",
   "metadata": {},
   "source": [
    "### Contexto :\n",
    "\n",
    "As vacinas para o H1N1 foram disponibilizadas publicamente pela primeira vez nos Estados Unidos em outubro de 2009, quando o governo dos Estados Unidos iniciou uma campanha de vacinação. Analisaremos os dados da Pesquisa Nacional sobre a Gripe H1N1 de 2009 coletados para monitorar as taxas de vacinação durante essa campanha. Esta pesquisa por telefone perguntou às pessoas se elas haviam recebido vacinas contra H1N1 e contra a gripe sazonal, em conjunto com informações que compartilharam sobre suas vidas, opiniões e comportamentos. Uma melhor compreensão de como estas características têm sido associadas aos padrões de vacinação pessoal pode fornecer orientação para futuros esforços de saúde pública."
   ]
  },
  {
   "cell_type": "markdown",
   "metadata": {},
   "source": [
    "### Benéficios do trabalho :\n",
    "\n",
    "Uma melhor compreensão de como essas características estão associadas aos padrões de vacinação pessoal pode fornecer orientação para futuros esforços de saúde pública."
   ]
  },
  {
   "cell_type": "markdown",
   "metadata": {},
   "source": [
    "### Soluções atualmente :\n",
    "\n",
    "Vacinação direcionada para regiões com picos de maior recorrência."
   ]
  },
  {
   "cell_type": "markdown",
   "metadata": {},
   "source": [
    "### Referência de desempenho :\n",
    "\n",
    "Indice de vacinação por estado\n",
    "Indice de ocorrência de H1N1 e Gripe Sazonal"
   ]
  },
  {
   "cell_type": "markdown",
   "metadata": {},
   "source": [
    "### Medidas de desempenhos :\n",
    "\n",
    "- RMSE\n",
    "- F1\n",
    "- RECALL\n",
    "- PRECISION\n",
    "- ROC"
   ]
  },
  {
   "cell_type": "markdown",
   "metadata": {},
   "source": [
    "------------------------------------------------------------------------------------------------------------------------------------------------------------------------------------------------------------"
   ]
  },
  {
   "cell_type": "markdown",
   "metadata": {},
   "source": [
    "# 02 - Dicionário de Dados"
   ]
  },
  {
   "cell_type": "markdown",
   "metadata": {},
   "source": [
    "Cada linha do conjunto de dados representa uma pessoa que respondeu à Pesquisa Nacional sobre Gripe H1N1 de 2009."
   ]
  },
  {
   "cell_type": "markdown",
   "metadata": {},
   "source": [
    "## Target\n",
    "\n",
    "Para esta competição, existem duas variáveis-alvo:\n",
    "\n",
    "`h1n1_vaccine- Se o entrevistado recebeu a vacina contra a gripe H1N1.`\n",
    "\n",
    "`seasonal_vaccine- Se o entrevistado recebeu a vacina contra a gripe sazonal.`\n",
    "\n",
    "Ambas são variáveis ​​binárias: 0= Não; 1= Sim. Alguns entrevistados não receberam nenhuma das vacinas, outros receberam apenas uma e alguns receberam ambas. Isso é formulado como um problema multirrótulo (e não multiclasse)."
   ]
  },
  {
   "cell_type": "markdown",
   "metadata": {},
   "source": [
    "## Features"
   ]
  },
  {
   "cell_type": "markdown",
   "metadata": {},
   "source": [
    "Você recebe um conjunto de dados com 36 colunas. A primeira coluna `respondent_id` é um identificador único e aleatório. Os 35 recursos restantes são descritos abaixo.\n",
    "\n",
    "Para todas as variáveis ​​binárias: 0= Não; 1= Sim.\n",
    "\n",
    "- `h1n1_concern`: Nível de preocupação com a gripe H1N1.\n",
    "  - 0= Nem um pouco preocupado; 1= Não muito preocupado; 2= Um pouco preocupado; 3= Muito preocupado.\n",
    "- `h1n1_knowledge`: Nível de conhecimento sobre a gripe H1N1.\n",
    "  - 0= Sem conhecimento; 1= Um pouco de conhecimento; 2= Muito conhecimento.\n",
    "- `behavioral_antiviral_meds`: Tomou medicamentos antivirais. (binário)\n",
    "- `behavioral_avoidance`: Evitou contato próximo com outras pessoas com sintomas semelhantes aos da gripe. (binário)\n",
    "- `behavioral_face_mask`: Comprou uma máscara facial. (binário)\n",
    "- `behavioral_wash_hands`: Lavou as mãos com frequência ou usou desinfetante para as mãos. (binário)\n",
    "- `behavioral_large_gatherings`: Reduziu o tempo em grandes reuniões. (binário)\n",
    "- `behavioral_outside_home`: Reduziu o contato com pessoas fora do seu agregado familiar. (binário)\n",
    "- `behavioral_touch_face`: Evitou tocar nos olhos, nariz ou boca. (binário)\n",
    "- `doctor_recc_h1n1`: A vacina contra a gripe H1N1 foi recomendada pelo médico. (binário)\n",
    "- `doctor_recc_seasonal`: A vacina contra a gripe sazonal foi recomendada pelo médico. (binário)\n",
    "- `chronic_med_condition`: Tem alguma das seguintes condições médicas crônicas: asma ou outra doença pulmonar, diabetes, doença cardíaca, doença renal, anemia falciforme ou outra anemia, doença neurológica ou neuromuscular, doença hepática ou sistema imunológico enfraquecido causado por uma doença crônica ou por medicamentos tomados para uma doença crônica. (binário)\n",
    "- `child_under_6_months`: Tem contato próximo regular com criança menor de seis meses. (binário)\n",
    "- `health_worker`: É profissional de saúde. (binário)\n",
    "- `health_insurance`: Possui plano de saúde. (binário)\n",
    "- `opinion_h1n1_vacc_effective`: Opinião do entrevistado sobre a eficácia da vacina H1N1.\n",
    "  - 1= Nada eficaz; 2= Não muito eficaz; 3= Não sei; 4= Um pouco eficaz; 5= Muito eficaz.\n",
    "- `opinion_h1n1_risk`: Opinião do entrevistado sobre risco de contrair gripe H1N1 sem vacina.\n",
    "  - 1= Muito Baixo; 2= Um pouco baixo; 3= Não sei; 4= Um pouco alto; 5= Muito alto.\n",
    "- `opinion_h1n1_sick_from_vacc`: Preocupação do entrevistado em ficar doente por tomar a vacina H1N1.\n",
    "  - 1= Nem um pouco preocupado; 2= Não muito preocupado; 3= Não sei; 4= Um pouco preocupado; 5= Muito preocupado.\n",
    "- `opinion_seas_vacc_effective`: Opinião do entrevistado sobre a eficácia da vacina contra a gripe sazonal.\n",
    "  - 1= Nada eficaz; 2= Não muito eficaz; 3= Não sei; 4= Um pouco eficaz; 5= Muito eficaz.\n",
    "- `opinion_seas_risk`: Opinião do entrevistado sobre risco de contrair gripe sazonal sem vacina.\n",
    "  - 1= Muito Baixo; 2= Um pouco baixo; 3= Não sei; 4= Um pouco alto; 5= Muito alto.\n",
    "- `opinion_seas_sick_from_vacc`: Preocupação do entrevistado em ficar doente por tomar a vacina contra a gripe sazonal.\n",
    "  - 1= Nem um pouco preocupado; 2= Não muito preocupado; 3= Não sei; 4= Um pouco preocupado; 5= Muito preocupado.\n",
    "- `age_group`: Faixa etária do entrevistado.\n",
    "- `education`: Nível de escolaridade autorreferido.\n",
    "- `race`: Raça do entrevistado.\n",
    "- `sex`: Sexo do entrevistado.\n",
    "- `income_poverty`: Rendimento anual do agregado familiar do inquirido em relação aos limiares de pobreza do Censo de 2008.\n",
    "- `marital_status`: Estado civil do entrevistado.\n",
    "- `rent_or_own`: Situação habitacional do entrevistado.\n",
    "- `employment_status`: Situação profissional do entrevistado.\n",
    "- `hhs_geo_region`: Residência do entrevistado usando uma classificação geográfica de 10 regiões definida pelo Departamento de Saúde e Serviços Humanos dos EUA. Os valores são representados como pequenas sequências de caracteres aleatórios.\n",
    "- `census_msa`: Residência do entrevistado nas áreas estatísticas metropolitanas (MSA), conforme definido pelo Censo dos EUA.\n",
    "- `household_adults`: Número de outros adultos no agregado familiar, codificado como 3.\n",
    "- `household_children`: Número de crianças no agregado familiar, codificado no topo como 3.\n",
    "- `employment_industry`: Tipo de indústria em que o respondente trabalha. Os valores são representados como pequenas sequências de caracteres aleatórios.\n",
    "- `employment_occupation`: Tipo de ocupação do entrevistado. Os valores são representados como pequenas sequências de caracteres aleatórios.\n",
    "```"
   ]
  },
  {
   "cell_type": "markdown",
   "metadata": {},
   "source": [
    "------------------------------------------------------------------------------------------------------------------------------------------------------------------------------------------------------------"
   ]
  },
  {
   "cell_type": "markdown",
   "metadata": {},
   "source": [
    "# 03 - Importando Libnames"
   ]
  },
  {
   "cell_type": "code",
   "execution_count": 30,
   "metadata": {},
   "outputs": [],
   "source": [
    "# Manipular caminhos de arquivos\n",
    "from pathlib import Path\n",
    "\n",
    "# Algebra\n",
    "import numpy as np\n",
    "\n",
    "\n",
    "# Manipulação de dataframes\n",
    "import pandas as pd\n",
    "\n",
    "#Gráfico \n",
    "import matplotlib.pyplot as plt\n",
    "\n",
    "\n",
    "# Modelos\n",
    "from sklearn.preprocessing import StandardScaler\n",
    "from sklearn.impute import SimpleImputer\n",
    "from sklearn.compose import ColumnTransformer\n",
    "\n",
    "from sklearn.linear_model import LogisticRegression\n",
    "from sklearn.multioutput import MultiOutputClassifier\n",
    "\n",
    "from sklearn.pipeline import Pipeline\n",
    "\n",
    "from sklearn.model_selection import train_test_split\n",
    "\n",
    "from sklearn.metrics import roc_curve, roc_auc_score"
   ]
  },
  {
   "cell_type": "code",
   "execution_count": 5,
   "metadata": {},
   "outputs": [],
   "source": [
    "features_df = pd.read_csv(\"training_set_features.csv\", index_col=\"respondent_id\")\n",
    "labels_df = pd.read_csv(\"training_set_labels.csv\", index_col=\"respondent_id\")"
   ]
  },
  {
   "cell_type": "code",
   "execution_count": 7,
   "metadata": {},
   "outputs": [
    {
     "data": {
      "text/html": [
       "<style type=\"text/css\">\n",
       "#T_2ec84_row0_col0, #T_2ec84_row0_col1, #T_2ec84_row0_col2, #T_2ec84_row0_col3, #T_2ec84_row0_col4, #T_2ec84_row0_col5, #T_2ec84_row0_col6, #T_2ec84_row0_col9, #T_2ec84_row0_col10, #T_2ec84_row0_col11, #T_2ec84_row0_col12, #T_2ec84_row0_col13, #T_2ec84_row0_col14, #T_2ec84_row0_col15, #T_2ec84_row0_col16, #T_2ec84_row0_col18, #T_2ec84_row0_col19, #T_2ec84_row0_col31, #T_2ec84_row0_col32, #T_2ec84_row1_col2, #T_2ec84_row1_col4, #T_2ec84_row1_col6, #T_2ec84_row1_col9, #T_2ec84_row1_col10, #T_2ec84_row1_col11, #T_2ec84_row1_col12, #T_2ec84_row1_col13, #T_2ec84_row1_col14, #T_2ec84_row1_col31, #T_2ec84_row1_col32, #T_2ec84_row2_col0, #T_2ec84_row2_col2, #T_2ec84_row2_col4, #T_2ec84_row2_col5, #T_2ec84_row2_col6, #T_2ec84_row2_col7, #T_2ec84_row2_col8, #T_2ec84_row2_col9, #T_2ec84_row2_col12, #T_2ec84_row2_col13, #T_2ec84_row2_col14, #T_2ec84_row2_col15, #T_2ec84_row2_col16, #T_2ec84_row2_col17, #T_2ec84_row2_col19, #T_2ec84_row2_col32, #T_2ec84_row3_col0, #T_2ec84_row3_col2, #T_2ec84_row3_col4, #T_2ec84_row3_col7, #T_2ec84_row3_col8, #T_2ec84_row3_col9, #T_2ec84_row3_col12, #T_2ec84_row3_col13, #T_2ec84_row3_col14, #T_2ec84_row3_col15, #T_2ec84_row3_col20, #T_2ec84_row3_col31, #T_2ec84_row3_col32, #T_2ec84_row4_col2, #T_2ec84_row4_col4, #T_2ec84_row4_col7, #T_2ec84_row4_col9, #T_2ec84_row4_col10, #T_2ec84_row4_col11, #T_2ec84_row4_col12, #T_2ec84_row4_col13, #T_2ec84_row4_col14, #T_2ec84_row4_col15, #T_2ec84_row4_col19, #T_2ec84_row4_col32 {\n",
       "  background-color: #fff7fb;\n",
       "  color: #000000;\n",
       "}\n",
       "#T_2ec84_row0_col7, #T_2ec84_row0_col8, #T_2ec84_row1_col0, #T_2ec84_row1_col1, #T_2ec84_row1_col3, #T_2ec84_row1_col5, #T_2ec84_row1_col7, #T_2ec84_row1_col8, #T_2ec84_row1_col15, #T_2ec84_row1_col16, #T_2ec84_row1_col20, #T_2ec84_row2_col3, #T_2ec84_row2_col11, #T_2ec84_row2_col31, #T_2ec84_row3_col3, #T_2ec84_row3_col5, #T_2ec84_row3_col6, #T_2ec84_row3_col10, #T_2ec84_row3_col11, #T_2ec84_row3_col17, #T_2ec84_row3_col18, #T_2ec84_row3_col19, #T_2ec84_row4_col3, #T_2ec84_row4_col5, #T_2ec84_row4_col6, #T_2ec84_row4_col8, #T_2ec84_row4_col20 {\n",
       "  background-color: #023858;\n",
       "  color: #f1f1f1;\n",
       "}\n",
       "#T_2ec84_row0_col17, #T_2ec84_row4_col17 {\n",
       "  background-color: #d0d1e6;\n",
       "  color: #000000;\n",
       "}\n",
       "#T_2ec84_row0_col20, #T_2ec84_row1_col19, #T_2ec84_row2_col20, #T_2ec84_row4_col18 {\n",
       "  background-color: #b4c4df;\n",
       "  color: #000000;\n",
       "}\n",
       "#T_2ec84_row1_col17 {\n",
       "  background-color: #056faf;\n",
       "  color: #f1f1f1;\n",
       "}\n",
       "#T_2ec84_row1_col18, #T_2ec84_row2_col18, #T_2ec84_row3_col16, #T_2ec84_row4_col16 {\n",
       "  background-color: #2685bb;\n",
       "  color: #f1f1f1;\n",
       "}\n",
       "#T_2ec84_row2_col1, #T_2ec84_row3_col1, #T_2ec84_row4_col0, #T_2ec84_row4_col1, #T_2ec84_row4_col31 {\n",
       "  background-color: #73a9cf;\n",
       "  color: #f1f1f1;\n",
       "}\n",
       "#T_2ec84_row2_col10 {\n",
       "  background-color: #000000;\n",
       "  color: #f1f1f1;\n",
       "}\n",
       "</style>\n",
       "<table id=\"T_2ec84\">\n",
       "  <thead>\n",
       "    <tr>\n",
       "      <th class=\"blank level0\" >&nbsp;</th>\n",
       "      <th id=\"T_2ec84_level0_col0\" class=\"col_heading level0 col0\" >h1n1_concern</th>\n",
       "      <th id=\"T_2ec84_level0_col1\" class=\"col_heading level0 col1\" >h1n1_knowledge</th>\n",
       "      <th id=\"T_2ec84_level0_col2\" class=\"col_heading level0 col2\" >behavioral_antiviral_meds</th>\n",
       "      <th id=\"T_2ec84_level0_col3\" class=\"col_heading level0 col3\" >behavioral_avoidance</th>\n",
       "      <th id=\"T_2ec84_level0_col4\" class=\"col_heading level0 col4\" >behavioral_face_mask</th>\n",
       "      <th id=\"T_2ec84_level0_col5\" class=\"col_heading level0 col5\" >behavioral_wash_hands</th>\n",
       "      <th id=\"T_2ec84_level0_col6\" class=\"col_heading level0 col6\" >behavioral_large_gatherings</th>\n",
       "      <th id=\"T_2ec84_level0_col7\" class=\"col_heading level0 col7\" >behavioral_outside_home</th>\n",
       "      <th id=\"T_2ec84_level0_col8\" class=\"col_heading level0 col8\" >behavioral_touch_face</th>\n",
       "      <th id=\"T_2ec84_level0_col9\" class=\"col_heading level0 col9\" >doctor_recc_h1n1</th>\n",
       "      <th id=\"T_2ec84_level0_col10\" class=\"col_heading level0 col10\" >doctor_recc_seasonal</th>\n",
       "      <th id=\"T_2ec84_level0_col11\" class=\"col_heading level0 col11\" >chronic_med_condition</th>\n",
       "      <th id=\"T_2ec84_level0_col12\" class=\"col_heading level0 col12\" >child_under_6_months</th>\n",
       "      <th id=\"T_2ec84_level0_col13\" class=\"col_heading level0 col13\" >health_worker</th>\n",
       "      <th id=\"T_2ec84_level0_col14\" class=\"col_heading level0 col14\" >health_insurance</th>\n",
       "      <th id=\"T_2ec84_level0_col15\" class=\"col_heading level0 col15\" >opinion_h1n1_vacc_effective</th>\n",
       "      <th id=\"T_2ec84_level0_col16\" class=\"col_heading level0 col16\" >opinion_h1n1_risk</th>\n",
       "      <th id=\"T_2ec84_level0_col17\" class=\"col_heading level0 col17\" >opinion_h1n1_sick_from_vacc</th>\n",
       "      <th id=\"T_2ec84_level0_col18\" class=\"col_heading level0 col18\" >opinion_seas_vacc_effective</th>\n",
       "      <th id=\"T_2ec84_level0_col19\" class=\"col_heading level0 col19\" >opinion_seas_risk</th>\n",
       "      <th id=\"T_2ec84_level0_col20\" class=\"col_heading level0 col20\" >opinion_seas_sick_from_vacc</th>\n",
       "      <th id=\"T_2ec84_level0_col21\" class=\"col_heading level0 col21\" >age_group</th>\n",
       "      <th id=\"T_2ec84_level0_col22\" class=\"col_heading level0 col22\" >education</th>\n",
       "      <th id=\"T_2ec84_level0_col23\" class=\"col_heading level0 col23\" >race</th>\n",
       "      <th id=\"T_2ec84_level0_col24\" class=\"col_heading level0 col24\" >sex</th>\n",
       "      <th id=\"T_2ec84_level0_col25\" class=\"col_heading level0 col25\" >income_poverty</th>\n",
       "      <th id=\"T_2ec84_level0_col26\" class=\"col_heading level0 col26\" >marital_status</th>\n",
       "      <th id=\"T_2ec84_level0_col27\" class=\"col_heading level0 col27\" >rent_or_own</th>\n",
       "      <th id=\"T_2ec84_level0_col28\" class=\"col_heading level0 col28\" >employment_status</th>\n",
       "      <th id=\"T_2ec84_level0_col29\" class=\"col_heading level0 col29\" >hhs_geo_region</th>\n",
       "      <th id=\"T_2ec84_level0_col30\" class=\"col_heading level0 col30\" >census_msa</th>\n",
       "      <th id=\"T_2ec84_level0_col31\" class=\"col_heading level0 col31\" >household_adults</th>\n",
       "      <th id=\"T_2ec84_level0_col32\" class=\"col_heading level0 col32\" >household_children</th>\n",
       "      <th id=\"T_2ec84_level0_col33\" class=\"col_heading level0 col33\" >employment_industry</th>\n",
       "      <th id=\"T_2ec84_level0_col34\" class=\"col_heading level0 col34\" >employment_occupation</th>\n",
       "    </tr>\n",
       "    <tr>\n",
       "      <th class=\"index_name level0\" >respondent_id</th>\n",
       "      <th class=\"blank col0\" >&nbsp;</th>\n",
       "      <th class=\"blank col1\" >&nbsp;</th>\n",
       "      <th class=\"blank col2\" >&nbsp;</th>\n",
       "      <th class=\"blank col3\" >&nbsp;</th>\n",
       "      <th class=\"blank col4\" >&nbsp;</th>\n",
       "      <th class=\"blank col5\" >&nbsp;</th>\n",
       "      <th class=\"blank col6\" >&nbsp;</th>\n",
       "      <th class=\"blank col7\" >&nbsp;</th>\n",
       "      <th class=\"blank col8\" >&nbsp;</th>\n",
       "      <th class=\"blank col9\" >&nbsp;</th>\n",
       "      <th class=\"blank col10\" >&nbsp;</th>\n",
       "      <th class=\"blank col11\" >&nbsp;</th>\n",
       "      <th class=\"blank col12\" >&nbsp;</th>\n",
       "      <th class=\"blank col13\" >&nbsp;</th>\n",
       "      <th class=\"blank col14\" >&nbsp;</th>\n",
       "      <th class=\"blank col15\" >&nbsp;</th>\n",
       "      <th class=\"blank col16\" >&nbsp;</th>\n",
       "      <th class=\"blank col17\" >&nbsp;</th>\n",
       "      <th class=\"blank col18\" >&nbsp;</th>\n",
       "      <th class=\"blank col19\" >&nbsp;</th>\n",
       "      <th class=\"blank col20\" >&nbsp;</th>\n",
       "      <th class=\"blank col21\" >&nbsp;</th>\n",
       "      <th class=\"blank col22\" >&nbsp;</th>\n",
       "      <th class=\"blank col23\" >&nbsp;</th>\n",
       "      <th class=\"blank col24\" >&nbsp;</th>\n",
       "      <th class=\"blank col25\" >&nbsp;</th>\n",
       "      <th class=\"blank col26\" >&nbsp;</th>\n",
       "      <th class=\"blank col27\" >&nbsp;</th>\n",
       "      <th class=\"blank col28\" >&nbsp;</th>\n",
       "      <th class=\"blank col29\" >&nbsp;</th>\n",
       "      <th class=\"blank col30\" >&nbsp;</th>\n",
       "      <th class=\"blank col31\" >&nbsp;</th>\n",
       "      <th class=\"blank col32\" >&nbsp;</th>\n",
       "      <th class=\"blank col33\" >&nbsp;</th>\n",
       "      <th class=\"blank col34\" >&nbsp;</th>\n",
       "    </tr>\n",
       "  </thead>\n",
       "  <tbody>\n",
       "    <tr>\n",
       "      <th id=\"T_2ec84_level0_row0\" class=\"row_heading level0 row0\" >0</th>\n",
       "      <td id=\"T_2ec84_row0_col0\" class=\"data row0 col0\" >1.000000</td>\n",
       "      <td id=\"T_2ec84_row0_col1\" class=\"data row0 col1\" >0.000000</td>\n",
       "      <td id=\"T_2ec84_row0_col2\" class=\"data row0 col2\" >0.000000</td>\n",
       "      <td id=\"T_2ec84_row0_col3\" class=\"data row0 col3\" >0.000000</td>\n",
       "      <td id=\"T_2ec84_row0_col4\" class=\"data row0 col4\" >0.000000</td>\n",
       "      <td id=\"T_2ec84_row0_col5\" class=\"data row0 col5\" >0.000000</td>\n",
       "      <td id=\"T_2ec84_row0_col6\" class=\"data row0 col6\" >0.000000</td>\n",
       "      <td id=\"T_2ec84_row0_col7\" class=\"data row0 col7\" >1.000000</td>\n",
       "      <td id=\"T_2ec84_row0_col8\" class=\"data row0 col8\" >1.000000</td>\n",
       "      <td id=\"T_2ec84_row0_col9\" class=\"data row0 col9\" >0.000000</td>\n",
       "      <td id=\"T_2ec84_row0_col10\" class=\"data row0 col10\" >0.000000</td>\n",
       "      <td id=\"T_2ec84_row0_col11\" class=\"data row0 col11\" >0.000000</td>\n",
       "      <td id=\"T_2ec84_row0_col12\" class=\"data row0 col12\" >0.000000</td>\n",
       "      <td id=\"T_2ec84_row0_col13\" class=\"data row0 col13\" >0.000000</td>\n",
       "      <td id=\"T_2ec84_row0_col14\" class=\"data row0 col14\" >1.000000</td>\n",
       "      <td id=\"T_2ec84_row0_col15\" class=\"data row0 col15\" >3.000000</td>\n",
       "      <td id=\"T_2ec84_row0_col16\" class=\"data row0 col16\" >1.000000</td>\n",
       "      <td id=\"T_2ec84_row0_col17\" class=\"data row0 col17\" >2.000000</td>\n",
       "      <td id=\"T_2ec84_row0_col18\" class=\"data row0 col18\" >2.000000</td>\n",
       "      <td id=\"T_2ec84_row0_col19\" class=\"data row0 col19\" >1.000000</td>\n",
       "      <td id=\"T_2ec84_row0_col20\" class=\"data row0 col20\" >2.000000</td>\n",
       "      <td id=\"T_2ec84_row0_col21\" class=\"data row0 col21\" >55 - 64 Years</td>\n",
       "      <td id=\"T_2ec84_row0_col22\" class=\"data row0 col22\" >< 12 Years</td>\n",
       "      <td id=\"T_2ec84_row0_col23\" class=\"data row0 col23\" >White</td>\n",
       "      <td id=\"T_2ec84_row0_col24\" class=\"data row0 col24\" >Female</td>\n",
       "      <td id=\"T_2ec84_row0_col25\" class=\"data row0 col25\" >Below Poverty</td>\n",
       "      <td id=\"T_2ec84_row0_col26\" class=\"data row0 col26\" >Not Married</td>\n",
       "      <td id=\"T_2ec84_row0_col27\" class=\"data row0 col27\" >Own</td>\n",
       "      <td id=\"T_2ec84_row0_col28\" class=\"data row0 col28\" >Not in Labor Force</td>\n",
       "      <td id=\"T_2ec84_row0_col29\" class=\"data row0 col29\" >oxchjgsf</td>\n",
       "      <td id=\"T_2ec84_row0_col30\" class=\"data row0 col30\" >Non-MSA</td>\n",
       "      <td id=\"T_2ec84_row0_col31\" class=\"data row0 col31\" >0.000000</td>\n",
       "      <td id=\"T_2ec84_row0_col32\" class=\"data row0 col32\" >0.000000</td>\n",
       "      <td id=\"T_2ec84_row0_col33\" class=\"data row0 col33\" >nan</td>\n",
       "      <td id=\"T_2ec84_row0_col34\" class=\"data row0 col34\" >nan</td>\n",
       "    </tr>\n",
       "    <tr>\n",
       "      <th id=\"T_2ec84_level0_row1\" class=\"row_heading level0 row1\" >1</th>\n",
       "      <td id=\"T_2ec84_row1_col0\" class=\"data row1 col0\" >3.000000</td>\n",
       "      <td id=\"T_2ec84_row1_col1\" class=\"data row1 col1\" >2.000000</td>\n",
       "      <td id=\"T_2ec84_row1_col2\" class=\"data row1 col2\" >0.000000</td>\n",
       "      <td id=\"T_2ec84_row1_col3\" class=\"data row1 col3\" >1.000000</td>\n",
       "      <td id=\"T_2ec84_row1_col4\" class=\"data row1 col4\" >0.000000</td>\n",
       "      <td id=\"T_2ec84_row1_col5\" class=\"data row1 col5\" >1.000000</td>\n",
       "      <td id=\"T_2ec84_row1_col6\" class=\"data row1 col6\" >0.000000</td>\n",
       "      <td id=\"T_2ec84_row1_col7\" class=\"data row1 col7\" >1.000000</td>\n",
       "      <td id=\"T_2ec84_row1_col8\" class=\"data row1 col8\" >1.000000</td>\n",
       "      <td id=\"T_2ec84_row1_col9\" class=\"data row1 col9\" >0.000000</td>\n",
       "      <td id=\"T_2ec84_row1_col10\" class=\"data row1 col10\" >0.000000</td>\n",
       "      <td id=\"T_2ec84_row1_col11\" class=\"data row1 col11\" >0.000000</td>\n",
       "      <td id=\"T_2ec84_row1_col12\" class=\"data row1 col12\" >0.000000</td>\n",
       "      <td id=\"T_2ec84_row1_col13\" class=\"data row1 col13\" >0.000000</td>\n",
       "      <td id=\"T_2ec84_row1_col14\" class=\"data row1 col14\" >1.000000</td>\n",
       "      <td id=\"T_2ec84_row1_col15\" class=\"data row1 col15\" >5.000000</td>\n",
       "      <td id=\"T_2ec84_row1_col16\" class=\"data row1 col16\" >4.000000</td>\n",
       "      <td id=\"T_2ec84_row1_col17\" class=\"data row1 col17\" >4.000000</td>\n",
       "      <td id=\"T_2ec84_row1_col18\" class=\"data row1 col18\" >4.000000</td>\n",
       "      <td id=\"T_2ec84_row1_col19\" class=\"data row1 col19\" >2.000000</td>\n",
       "      <td id=\"T_2ec84_row1_col20\" class=\"data row1 col20\" >4.000000</td>\n",
       "      <td id=\"T_2ec84_row1_col21\" class=\"data row1 col21\" >35 - 44 Years</td>\n",
       "      <td id=\"T_2ec84_row1_col22\" class=\"data row1 col22\" >12 Years</td>\n",
       "      <td id=\"T_2ec84_row1_col23\" class=\"data row1 col23\" >White</td>\n",
       "      <td id=\"T_2ec84_row1_col24\" class=\"data row1 col24\" >Male</td>\n",
       "      <td id=\"T_2ec84_row1_col25\" class=\"data row1 col25\" >Below Poverty</td>\n",
       "      <td id=\"T_2ec84_row1_col26\" class=\"data row1 col26\" >Not Married</td>\n",
       "      <td id=\"T_2ec84_row1_col27\" class=\"data row1 col27\" >Rent</td>\n",
       "      <td id=\"T_2ec84_row1_col28\" class=\"data row1 col28\" >Employed</td>\n",
       "      <td id=\"T_2ec84_row1_col29\" class=\"data row1 col29\" >bhuqouqj</td>\n",
       "      <td id=\"T_2ec84_row1_col30\" class=\"data row1 col30\" >MSA, Not Principle  City</td>\n",
       "      <td id=\"T_2ec84_row1_col31\" class=\"data row1 col31\" >0.000000</td>\n",
       "      <td id=\"T_2ec84_row1_col32\" class=\"data row1 col32\" >0.000000</td>\n",
       "      <td id=\"T_2ec84_row1_col33\" class=\"data row1 col33\" >pxcmvdjn</td>\n",
       "      <td id=\"T_2ec84_row1_col34\" class=\"data row1 col34\" >xgwztkwe</td>\n",
       "    </tr>\n",
       "    <tr>\n",
       "      <th id=\"T_2ec84_level0_row2\" class=\"row_heading level0 row2\" >2</th>\n",
       "      <td id=\"T_2ec84_row2_col0\" class=\"data row2 col0\" >1.000000</td>\n",
       "      <td id=\"T_2ec84_row2_col1\" class=\"data row2 col1\" >1.000000</td>\n",
       "      <td id=\"T_2ec84_row2_col2\" class=\"data row2 col2\" >0.000000</td>\n",
       "      <td id=\"T_2ec84_row2_col3\" class=\"data row2 col3\" >1.000000</td>\n",
       "      <td id=\"T_2ec84_row2_col4\" class=\"data row2 col4\" >0.000000</td>\n",
       "      <td id=\"T_2ec84_row2_col5\" class=\"data row2 col5\" >0.000000</td>\n",
       "      <td id=\"T_2ec84_row2_col6\" class=\"data row2 col6\" >0.000000</td>\n",
       "      <td id=\"T_2ec84_row2_col7\" class=\"data row2 col7\" >0.000000</td>\n",
       "      <td id=\"T_2ec84_row2_col8\" class=\"data row2 col8\" >0.000000</td>\n",
       "      <td id=\"T_2ec84_row2_col9\" class=\"data row2 col9\" >nan</td>\n",
       "      <td id=\"T_2ec84_row2_col10\" class=\"data row2 col10\" >nan</td>\n",
       "      <td id=\"T_2ec84_row2_col11\" class=\"data row2 col11\" >1.000000</td>\n",
       "      <td id=\"T_2ec84_row2_col12\" class=\"data row2 col12\" >0.000000</td>\n",
       "      <td id=\"T_2ec84_row2_col13\" class=\"data row2 col13\" >0.000000</td>\n",
       "      <td id=\"T_2ec84_row2_col14\" class=\"data row2 col14\" >nan</td>\n",
       "      <td id=\"T_2ec84_row2_col15\" class=\"data row2 col15\" >3.000000</td>\n",
       "      <td id=\"T_2ec84_row2_col16\" class=\"data row2 col16\" >1.000000</td>\n",
       "      <td id=\"T_2ec84_row2_col17\" class=\"data row2 col17\" >1.000000</td>\n",
       "      <td id=\"T_2ec84_row2_col18\" class=\"data row2 col18\" >4.000000</td>\n",
       "      <td id=\"T_2ec84_row2_col19\" class=\"data row2 col19\" >1.000000</td>\n",
       "      <td id=\"T_2ec84_row2_col20\" class=\"data row2 col20\" >2.000000</td>\n",
       "      <td id=\"T_2ec84_row2_col21\" class=\"data row2 col21\" >18 - 34 Years</td>\n",
       "      <td id=\"T_2ec84_row2_col22\" class=\"data row2 col22\" >College Graduate</td>\n",
       "      <td id=\"T_2ec84_row2_col23\" class=\"data row2 col23\" >White</td>\n",
       "      <td id=\"T_2ec84_row2_col24\" class=\"data row2 col24\" >Male</td>\n",
       "      <td id=\"T_2ec84_row2_col25\" class=\"data row2 col25\" ><= $75,000, Above Poverty</td>\n",
       "      <td id=\"T_2ec84_row2_col26\" class=\"data row2 col26\" >Not Married</td>\n",
       "      <td id=\"T_2ec84_row2_col27\" class=\"data row2 col27\" >Own</td>\n",
       "      <td id=\"T_2ec84_row2_col28\" class=\"data row2 col28\" >Employed</td>\n",
       "      <td id=\"T_2ec84_row2_col29\" class=\"data row2 col29\" >qufhixun</td>\n",
       "      <td id=\"T_2ec84_row2_col30\" class=\"data row2 col30\" >MSA, Not Principle  City</td>\n",
       "      <td id=\"T_2ec84_row2_col31\" class=\"data row2 col31\" >2.000000</td>\n",
       "      <td id=\"T_2ec84_row2_col32\" class=\"data row2 col32\" >0.000000</td>\n",
       "      <td id=\"T_2ec84_row2_col33\" class=\"data row2 col33\" >rucpziij</td>\n",
       "      <td id=\"T_2ec84_row2_col34\" class=\"data row2 col34\" >xtkaffoo</td>\n",
       "    </tr>\n",
       "    <tr>\n",
       "      <th id=\"T_2ec84_level0_row3\" class=\"row_heading level0 row3\" >3</th>\n",
       "      <td id=\"T_2ec84_row3_col0\" class=\"data row3 col0\" >1.000000</td>\n",
       "      <td id=\"T_2ec84_row3_col1\" class=\"data row3 col1\" >1.000000</td>\n",
       "      <td id=\"T_2ec84_row3_col2\" class=\"data row3 col2\" >0.000000</td>\n",
       "      <td id=\"T_2ec84_row3_col3\" class=\"data row3 col3\" >1.000000</td>\n",
       "      <td id=\"T_2ec84_row3_col4\" class=\"data row3 col4\" >0.000000</td>\n",
       "      <td id=\"T_2ec84_row3_col5\" class=\"data row3 col5\" >1.000000</td>\n",
       "      <td id=\"T_2ec84_row3_col6\" class=\"data row3 col6\" >1.000000</td>\n",
       "      <td id=\"T_2ec84_row3_col7\" class=\"data row3 col7\" >0.000000</td>\n",
       "      <td id=\"T_2ec84_row3_col8\" class=\"data row3 col8\" >0.000000</td>\n",
       "      <td id=\"T_2ec84_row3_col9\" class=\"data row3 col9\" >0.000000</td>\n",
       "      <td id=\"T_2ec84_row3_col10\" class=\"data row3 col10\" >1.000000</td>\n",
       "      <td id=\"T_2ec84_row3_col11\" class=\"data row3 col11\" >1.000000</td>\n",
       "      <td id=\"T_2ec84_row3_col12\" class=\"data row3 col12\" >0.000000</td>\n",
       "      <td id=\"T_2ec84_row3_col13\" class=\"data row3 col13\" >0.000000</td>\n",
       "      <td id=\"T_2ec84_row3_col14\" class=\"data row3 col14\" >nan</td>\n",
       "      <td id=\"T_2ec84_row3_col15\" class=\"data row3 col15\" >3.000000</td>\n",
       "      <td id=\"T_2ec84_row3_col16\" class=\"data row3 col16\" >3.000000</td>\n",
       "      <td id=\"T_2ec84_row3_col17\" class=\"data row3 col17\" >5.000000</td>\n",
       "      <td id=\"T_2ec84_row3_col18\" class=\"data row3 col18\" >5.000000</td>\n",
       "      <td id=\"T_2ec84_row3_col19\" class=\"data row3 col19\" >4.000000</td>\n",
       "      <td id=\"T_2ec84_row3_col20\" class=\"data row3 col20\" >1.000000</td>\n",
       "      <td id=\"T_2ec84_row3_col21\" class=\"data row3 col21\" >65+ Years</td>\n",
       "      <td id=\"T_2ec84_row3_col22\" class=\"data row3 col22\" >12 Years</td>\n",
       "      <td id=\"T_2ec84_row3_col23\" class=\"data row3 col23\" >White</td>\n",
       "      <td id=\"T_2ec84_row3_col24\" class=\"data row3 col24\" >Female</td>\n",
       "      <td id=\"T_2ec84_row3_col25\" class=\"data row3 col25\" >Below Poverty</td>\n",
       "      <td id=\"T_2ec84_row3_col26\" class=\"data row3 col26\" >Not Married</td>\n",
       "      <td id=\"T_2ec84_row3_col27\" class=\"data row3 col27\" >Rent</td>\n",
       "      <td id=\"T_2ec84_row3_col28\" class=\"data row3 col28\" >Not in Labor Force</td>\n",
       "      <td id=\"T_2ec84_row3_col29\" class=\"data row3 col29\" >lrircsnp</td>\n",
       "      <td id=\"T_2ec84_row3_col30\" class=\"data row3 col30\" >MSA, Principle City</td>\n",
       "      <td id=\"T_2ec84_row3_col31\" class=\"data row3 col31\" >0.000000</td>\n",
       "      <td id=\"T_2ec84_row3_col32\" class=\"data row3 col32\" >0.000000</td>\n",
       "      <td id=\"T_2ec84_row3_col33\" class=\"data row3 col33\" >nan</td>\n",
       "      <td id=\"T_2ec84_row3_col34\" class=\"data row3 col34\" >nan</td>\n",
       "    </tr>\n",
       "    <tr>\n",
       "      <th id=\"T_2ec84_level0_row4\" class=\"row_heading level0 row4\" >4</th>\n",
       "      <td id=\"T_2ec84_row4_col0\" class=\"data row4 col0\" >2.000000</td>\n",
       "      <td id=\"T_2ec84_row4_col1\" class=\"data row4 col1\" >1.000000</td>\n",
       "      <td id=\"T_2ec84_row4_col2\" class=\"data row4 col2\" >0.000000</td>\n",
       "      <td id=\"T_2ec84_row4_col3\" class=\"data row4 col3\" >1.000000</td>\n",
       "      <td id=\"T_2ec84_row4_col4\" class=\"data row4 col4\" >0.000000</td>\n",
       "      <td id=\"T_2ec84_row4_col5\" class=\"data row4 col5\" >1.000000</td>\n",
       "      <td id=\"T_2ec84_row4_col6\" class=\"data row4 col6\" >1.000000</td>\n",
       "      <td id=\"T_2ec84_row4_col7\" class=\"data row4 col7\" >0.000000</td>\n",
       "      <td id=\"T_2ec84_row4_col8\" class=\"data row4 col8\" >1.000000</td>\n",
       "      <td id=\"T_2ec84_row4_col9\" class=\"data row4 col9\" >0.000000</td>\n",
       "      <td id=\"T_2ec84_row4_col10\" class=\"data row4 col10\" >0.000000</td>\n",
       "      <td id=\"T_2ec84_row4_col11\" class=\"data row4 col11\" >0.000000</td>\n",
       "      <td id=\"T_2ec84_row4_col12\" class=\"data row4 col12\" >0.000000</td>\n",
       "      <td id=\"T_2ec84_row4_col13\" class=\"data row4 col13\" >0.000000</td>\n",
       "      <td id=\"T_2ec84_row4_col14\" class=\"data row4 col14\" >nan</td>\n",
       "      <td id=\"T_2ec84_row4_col15\" class=\"data row4 col15\" >3.000000</td>\n",
       "      <td id=\"T_2ec84_row4_col16\" class=\"data row4 col16\" >3.000000</td>\n",
       "      <td id=\"T_2ec84_row4_col17\" class=\"data row4 col17\" >2.000000</td>\n",
       "      <td id=\"T_2ec84_row4_col18\" class=\"data row4 col18\" >3.000000</td>\n",
       "      <td id=\"T_2ec84_row4_col19\" class=\"data row4 col19\" >1.000000</td>\n",
       "      <td id=\"T_2ec84_row4_col20\" class=\"data row4 col20\" >4.000000</td>\n",
       "      <td id=\"T_2ec84_row4_col21\" class=\"data row4 col21\" >45 - 54 Years</td>\n",
       "      <td id=\"T_2ec84_row4_col22\" class=\"data row4 col22\" >Some College</td>\n",
       "      <td id=\"T_2ec84_row4_col23\" class=\"data row4 col23\" >White</td>\n",
       "      <td id=\"T_2ec84_row4_col24\" class=\"data row4 col24\" >Female</td>\n",
       "      <td id=\"T_2ec84_row4_col25\" class=\"data row4 col25\" ><= $75,000, Above Poverty</td>\n",
       "      <td id=\"T_2ec84_row4_col26\" class=\"data row4 col26\" >Married</td>\n",
       "      <td id=\"T_2ec84_row4_col27\" class=\"data row4 col27\" >Own</td>\n",
       "      <td id=\"T_2ec84_row4_col28\" class=\"data row4 col28\" >Employed</td>\n",
       "      <td id=\"T_2ec84_row4_col29\" class=\"data row4 col29\" >qufhixun</td>\n",
       "      <td id=\"T_2ec84_row4_col30\" class=\"data row4 col30\" >MSA, Not Principle  City</td>\n",
       "      <td id=\"T_2ec84_row4_col31\" class=\"data row4 col31\" >1.000000</td>\n",
       "      <td id=\"T_2ec84_row4_col32\" class=\"data row4 col32\" >0.000000</td>\n",
       "      <td id=\"T_2ec84_row4_col33\" class=\"data row4 col33\" >wxleyezf</td>\n",
       "      <td id=\"T_2ec84_row4_col34\" class=\"data row4 col34\" >emcorrxb</td>\n",
       "    </tr>\n",
       "  </tbody>\n",
       "</table>\n"
      ],
      "text/plain": [
       "<pandas.io.formats.style.Styler at 0x1ff24bc83d0>"
      ]
     },
     "execution_count": 7,
     "metadata": {},
     "output_type": "execute_result"
    }
   ],
   "source": [
    "features_df.head(5).style.background_gradient()"
   ]
  },
  {
   "cell_type": "code",
   "execution_count": 8,
   "metadata": {},
   "outputs": [
    {
     "name": "stdout",
     "output_type": "stream",
     "text": [
      "labels_df.shape (26707, 2)\n"
     ]
    },
    {
     "data": {
      "text/html": [
       "<div>\n",
       "<style scoped>\n",
       "    .dataframe tbody tr th:only-of-type {\n",
       "        vertical-align: middle;\n",
       "    }\n",
       "\n",
       "    .dataframe tbody tr th {\n",
       "        vertical-align: top;\n",
       "    }\n",
       "\n",
       "    .dataframe thead th {\n",
       "        text-align: right;\n",
       "    }\n",
       "</style>\n",
       "<table border=\"1\" class=\"dataframe\">\n",
       "  <thead>\n",
       "    <tr style=\"text-align: right;\">\n",
       "      <th></th>\n",
       "      <th>h1n1_vaccine</th>\n",
       "      <th>seasonal_vaccine</th>\n",
       "    </tr>\n",
       "    <tr>\n",
       "      <th>respondent_id</th>\n",
       "      <th></th>\n",
       "      <th></th>\n",
       "    </tr>\n",
       "  </thead>\n",
       "  <tbody>\n",
       "    <tr>\n",
       "      <th>0</th>\n",
       "      <td>0</td>\n",
       "      <td>0</td>\n",
       "    </tr>\n",
       "    <tr>\n",
       "      <th>1</th>\n",
       "      <td>0</td>\n",
       "      <td>1</td>\n",
       "    </tr>\n",
       "    <tr>\n",
       "      <th>2</th>\n",
       "      <td>0</td>\n",
       "      <td>0</td>\n",
       "    </tr>\n",
       "    <tr>\n",
       "      <th>3</th>\n",
       "      <td>0</td>\n",
       "      <td>1</td>\n",
       "    </tr>\n",
       "    <tr>\n",
       "      <th>4</th>\n",
       "      <td>0</td>\n",
       "      <td>0</td>\n",
       "    </tr>\n",
       "  </tbody>\n",
       "</table>\n",
       "</div>"
      ],
      "text/plain": [
       "               h1n1_vaccine  seasonal_vaccine\n",
       "respondent_id                                \n",
       "0                         0                 0\n",
       "1                         0                 1\n",
       "2                         0                 0\n",
       "3                         0                 1\n",
       "4                         0                 0"
      ]
     },
     "execution_count": 8,
     "metadata": {},
     "output_type": "execute_result"
    }
   ],
   "source": [
    "print(\"labels_df.shape\", labels_df.shape)\n",
    "labels_df.head()"
   ]
  },
  {
   "cell_type": "markdown",
   "metadata": {},
   "source": [
    "# 04 EDA"
   ]
  },
  {
   "cell_type": "markdown",
   "metadata": {},
   "source": [
    "Analisando variavel target"
   ]
  },
  {
   "cell_type": "code",
   "execution_count": 13,
   "metadata": {},
   "outputs": [
    {
     "data": {
      "image/png": "[encoded data removed]",
      "text/plain": [
       "<Figure size 640x480 with 2 Axes>"
      ]
     },
     "metadata": {},
     "output_type": "display_data"
    }
   ],
   "source": [
    "fig, ax = plt.subplots(2, 1, sharex=True)\n",
    "\n",
    "n_obs = labels_df.shape[0]\n",
    "\n",
    "(labels_df['h1n1_vaccine']\n",
    "    .value_counts()\n",
    "    .div(n_obs)\n",
    "    .plot.barh(title=\"Proportion of H1N1 Vaccine\", ax=ax[0])\n",
    ")\n",
    "ax[0].set_ylabel(\"h1n1_vaccine\")\n",
    "\n",
    "(labels_df['seasonal_vaccine']\n",
    "    .value_counts()\n",
    "    .div(n_obs)\n",
    "    .plot.barh(title=\"Proportion of Seasonal Vaccine\", ax=ax[1])\n",
    ")\n",
    "ax[1].set_ylabel(\"seasonal_vaccine\")\n",
    "\n",
    "fig.tight_layout()"
   ]
  },
  {
   "cell_type": "markdown",
   "metadata": {},
   "source": [
    "`Análise`\n",
    "\n",
    "Parece que cerca de metade das pessoas recebeu a vacina contra a gripe sazonal, mas apenas cerca de 20% das pessoas receberam a vacina contra a gripe H1N1. Em termos de equilíbrio de classes, dizemos que a meta da vacina contra a gripe sazonal tem classes equilibradas, mas a meta da vacina contra a gripe H1N1 tem classes moderadamente desequilibradas."
   ]
  },
  {
   "cell_type": "code",
   "execution_count": 14,
   "metadata": {},
   "outputs": [
    {
     "data": {
      "text/html": [
       "<div>\n",
       "<style scoped>\n",
       "    .dataframe tbody tr th:only-of-type {\n",
       "        vertical-align: middle;\n",
       "    }\n",
       "\n",
       "    .dataframe tbody tr th {\n",
       "        vertical-align: top;\n",
       "    }\n",
       "\n",
       "    .dataframe thead th {\n",
       "        text-align: right;\n",
       "    }\n",
       "</style>\n",
       "<table border=\"1\" class=\"dataframe\">\n",
       "  <thead>\n",
       "    <tr style=\"text-align: right;\">\n",
       "      <th>seasonal_vaccine</th>\n",
       "      <th>0</th>\n",
       "      <th>1</th>\n",
       "      <th>All</th>\n",
       "    </tr>\n",
       "    <tr>\n",
       "      <th>h1n1_vaccine</th>\n",
       "      <th></th>\n",
       "      <th></th>\n",
       "      <th></th>\n",
       "    </tr>\n",
       "  </thead>\n",
       "  <tbody>\n",
       "    <tr>\n",
       "      <th>0</th>\n",
       "      <td>0.497810</td>\n",
       "      <td>0.289737</td>\n",
       "      <td>0.787546</td>\n",
       "    </tr>\n",
       "    <tr>\n",
       "      <th>1</th>\n",
       "      <td>0.036582</td>\n",
       "      <td>0.175871</td>\n",
       "      <td>0.212454</td>\n",
       "    </tr>\n",
       "    <tr>\n",
       "      <th>All</th>\n",
       "      <td>0.534392</td>\n",
       "      <td>0.465608</td>\n",
       "      <td>1.000000</td>\n",
       "    </tr>\n",
       "  </tbody>\n",
       "</table>\n",
       "</div>"
      ],
      "text/plain": [
       "seasonal_vaccine         0         1       All\n",
       "h1n1_vaccine                                  \n",
       "0                 0.497810  0.289737  0.787546\n",
       "1                 0.036582  0.175871  0.212454\n",
       "All               0.534392  0.465608  1.000000"
      ]
     },
     "execution_count": 14,
     "metadata": {},
     "output_type": "execute_result"
    }
   ],
   "source": [
    "# As duas variáveis-alvo são idependentes?\n",
    "\n",
    "pd.crosstab(\n",
    "    labels_df[\"h1n1_vaccine\"],\n",
    "    labels_df[\"seasonal_vaccine\"],\n",
    "    margins= True,\n",
    "    normalize= True\n",
    ")"
   ]
  },
  {
   "cell_type": "code",
   "execution_count": 15,
   "metadata": {},
   "outputs": [
    {
     "data": {
      "text/plain": [
       "0.37714265306144473"
      ]
     },
     "execution_count": 15,
     "metadata": {},
     "output_type": "execute_result"
    }
   ],
   "source": [
    "labels_df[\"h1n1_vaccine\"].corr(labels_df[\"seasonal_vaccine\"], method=\"pearson\")"
   ]
  },
  {
   "cell_type": "markdown",
   "metadata": {},
   "source": [
    "`Análise`\n",
    "\n",
    "Essas duas variáveis ​​apresentam coeficiente phi de 0,37, indicando correlação positiva moderada. Podemos ver isso também na tabulação cruzada. A maioria das pessoas que recebeu a vacina contra a gripe H1N1 também recebeu a vacina contra a gripe sazonal. Embora uma minoria de pessoas que receberam a vacina sazonal tenham recebido a vacina contra o H1N1, elas receberam a vacina contra o H1N1 a uma taxa mais elevada do que aquelas que não receberam a vacina sazonal."
   ]
  },
  {
   "cell_type": "markdown",
   "metadata": {},
   "source": [
    "### Features"
   ]
  },
  {
   "cell_type": "code",
   "execution_count": 17,
   "metadata": {},
   "outputs": [
    {
     "name": "stdout",
     "output_type": "stream",
     "text": [
      "(26707, 37)\n"
     ]
    },
    {
     "data": {
      "text/html": [
       "<div>\n",
       "<style scoped>\n",
       "    .dataframe tbody tr th:only-of-type {\n",
       "        vertical-align: middle;\n",
       "    }\n",
       "\n",
       "    .dataframe tbody tr th {\n",
       "        vertical-align: top;\n",
       "    }\n",
       "\n",
       "    .dataframe thead th {\n",
       "        text-align: right;\n",
       "    }\n",
       "</style>\n",
       "<table border=\"1\" class=\"dataframe\">\n",
       "  <thead>\n",
       "    <tr style=\"text-align: right;\">\n",
       "      <th></th>\n",
       "      <th>h1n1_concern</th>\n",
       "      <th>h1n1_knowledge</th>\n",
       "      <th>behavioral_antiviral_meds</th>\n",
       "      <th>behavioral_avoidance</th>\n",
       "      <th>behavioral_face_mask</th>\n",
       "      <th>behavioral_wash_hands</th>\n",
       "      <th>behavioral_large_gatherings</th>\n",
       "      <th>behavioral_outside_home</th>\n",
       "      <th>behavioral_touch_face</th>\n",
       "      <th>doctor_recc_h1n1</th>\n",
       "      <th>...</th>\n",
       "      <th>rent_or_own</th>\n",
       "      <th>employment_status</th>\n",
       "      <th>hhs_geo_region</th>\n",
       "      <th>census_msa</th>\n",
       "      <th>household_adults</th>\n",
       "      <th>household_children</th>\n",
       "      <th>employment_industry</th>\n",
       "      <th>employment_occupation</th>\n",
       "      <th>h1n1_vaccine</th>\n",
       "      <th>seasonal_vaccine</th>\n",
       "    </tr>\n",
       "    <tr>\n",
       "      <th>respondent_id</th>\n",
       "      <th></th>\n",
       "      <th></th>\n",
       "      <th></th>\n",
       "      <th></th>\n",
       "      <th></th>\n",
       "      <th></th>\n",
       "      <th></th>\n",
       "      <th></th>\n",
       "      <th></th>\n",
       "      <th></th>\n",
       "      <th></th>\n",
       "      <th></th>\n",
       "      <th></th>\n",
       "      <th></th>\n",
       "      <th></th>\n",
       "      <th></th>\n",
       "      <th></th>\n",
       "      <th></th>\n",
       "      <th></th>\n",
       "      <th></th>\n",
       "      <th></th>\n",
       "    </tr>\n",
       "  </thead>\n",
       "  <tbody>\n",
       "    <tr>\n",
       "      <th>0</th>\n",
       "      <td>1.0</td>\n",
       "      <td>0.0</td>\n",
       "      <td>0.0</td>\n",
       "      <td>0.0</td>\n",
       "      <td>0.0</td>\n",
       "      <td>0.0</td>\n",
       "      <td>0.0</td>\n",
       "      <td>1.0</td>\n",
       "      <td>1.0</td>\n",
       "      <td>0.0</td>\n",
       "      <td>...</td>\n",
       "      <td>Own</td>\n",
       "      <td>Not in Labor Force</td>\n",
       "      <td>oxchjgsf</td>\n",
       "      <td>Non-MSA</td>\n",
       "      <td>0.0</td>\n",
       "      <td>0.0</td>\n",
       "      <td>NaN</td>\n",
       "      <td>NaN</td>\n",
       "      <td>0</td>\n",
       "      <td>0</td>\n",
       "    </tr>\n",
       "    <tr>\n",
       "      <th>1</th>\n",
       "      <td>3.0</td>\n",
       "      <td>2.0</td>\n",
       "      <td>0.0</td>\n",
       "      <td>1.0</td>\n",
       "      <td>0.0</td>\n",
       "      <td>1.0</td>\n",
       "      <td>0.0</td>\n",
       "      <td>1.0</td>\n",
       "      <td>1.0</td>\n",
       "      <td>0.0</td>\n",
       "      <td>...</td>\n",
       "      <td>Rent</td>\n",
       "      <td>Employed</td>\n",
       "      <td>bhuqouqj</td>\n",
       "      <td>MSA, Not Principle  City</td>\n",
       "      <td>0.0</td>\n",
       "      <td>0.0</td>\n",
       "      <td>pxcmvdjn</td>\n",
       "      <td>xgwztkwe</td>\n",
       "      <td>0</td>\n",
       "      <td>1</td>\n",
       "    </tr>\n",
       "    <tr>\n",
       "      <th>2</th>\n",
       "      <td>1.0</td>\n",
       "      <td>1.0</td>\n",
       "      <td>0.0</td>\n",
       "      <td>1.0</td>\n",
       "      <td>0.0</td>\n",
       "      <td>0.0</td>\n",
       "      <td>0.0</td>\n",
       "      <td>0.0</td>\n",
       "      <td>0.0</td>\n",
       "      <td>NaN</td>\n",
       "      <td>...</td>\n",
       "      <td>Own</td>\n",
       "      <td>Employed</td>\n",
       "      <td>qufhixun</td>\n",
       "      <td>MSA, Not Principle  City</td>\n",
       "      <td>2.0</td>\n",
       "      <td>0.0</td>\n",
       "      <td>rucpziij</td>\n",
       "      <td>xtkaffoo</td>\n",
       "      <td>0</td>\n",
       "      <td>0</td>\n",
       "    </tr>\n",
       "    <tr>\n",
       "      <th>3</th>\n",
       "      <td>1.0</td>\n",
       "      <td>1.0</td>\n",
       "      <td>0.0</td>\n",
       "      <td>1.0</td>\n",
       "      <td>0.0</td>\n",
       "      <td>1.0</td>\n",
       "      <td>1.0</td>\n",
       "      <td>0.0</td>\n",
       "      <td>0.0</td>\n",
       "      <td>0.0</td>\n",
       "      <td>...</td>\n",
       "      <td>Rent</td>\n",
       "      <td>Not in Labor Force</td>\n",
       "      <td>lrircsnp</td>\n",
       "      <td>MSA, Principle City</td>\n",
       "      <td>0.0</td>\n",
       "      <td>0.0</td>\n",
       "      <td>NaN</td>\n",
       "      <td>NaN</td>\n",
       "      <td>0</td>\n",
       "      <td>1</td>\n",
       "    </tr>\n",
       "    <tr>\n",
       "      <th>4</th>\n",
       "      <td>2.0</td>\n",
       "      <td>1.0</td>\n",
       "      <td>0.0</td>\n",
       "      <td>1.0</td>\n",
       "      <td>0.0</td>\n",
       "      <td>1.0</td>\n",
       "      <td>1.0</td>\n",
       "      <td>0.0</td>\n",
       "      <td>1.0</td>\n",
       "      <td>0.0</td>\n",
       "      <td>...</td>\n",
       "      <td>Own</td>\n",
       "      <td>Employed</td>\n",
       "      <td>qufhixun</td>\n",
       "      <td>MSA, Not Principle  City</td>\n",
       "      <td>1.0</td>\n",
       "      <td>0.0</td>\n",
       "      <td>wxleyezf</td>\n",
       "      <td>emcorrxb</td>\n",
       "      <td>0</td>\n",
       "      <td>0</td>\n",
       "    </tr>\n",
       "  </tbody>\n",
       "</table>\n",
       "<p>5 rows × 37 columns</p>\n",
       "</div>"
      ],
      "text/plain": [
       "               h1n1_concern  h1n1_knowledge  behavioral_antiviral_meds  \\\n",
       "respondent_id                                                            \n",
       "0                       1.0             0.0                        0.0   \n",
       "1                       3.0             2.0                        0.0   \n",
       "2                       1.0             1.0                        0.0   \n",
       "3                       1.0             1.0                        0.0   \n",
       "4                       2.0             1.0                        0.0   \n",
       "\n",
       "               behavioral_avoidance  behavioral_face_mask  \\\n",
       "respondent_id                                               \n",
       "0                               0.0                   0.0   \n",
       "1                               1.0                   0.0   \n",
       "2                               1.0                   0.0   \n",
       "3                               1.0                   0.0   \n",
       "4                               1.0                   0.0   \n",
       "\n",
       "               behavioral_wash_hands  behavioral_large_gatherings  \\\n",
       "respondent_id                                                       \n",
       "0                                0.0                          0.0   \n",
       "1                                1.0                          0.0   \n",
       "2                                0.0                          0.0   \n",
       "3                                1.0                          1.0   \n",
       "4                                1.0                          1.0   \n",
       "\n",
       "               behavioral_outside_home  behavioral_touch_face  \\\n",
       "respondent_id                                                   \n",
       "0                                  1.0                    1.0   \n",
       "1                                  1.0                    1.0   \n",
       "2                                  0.0                    0.0   \n",
       "3                                  0.0                    0.0   \n",
       "4                                  0.0                    1.0   \n",
       "\n",
       "               doctor_recc_h1n1  ...  rent_or_own   employment_status  \\\n",
       "respondent_id                    ...                                    \n",
       "0                           0.0  ...          Own  Not in Labor Force   \n",
       "1                           0.0  ...         Rent            Employed   \n",
       "2                           NaN  ...          Own            Employed   \n",
       "3                           0.0  ...         Rent  Not in Labor Force   \n",
       "4                           0.0  ...          Own            Employed   \n",
       "\n",
       "               hhs_geo_region                census_msa  household_adults  \\\n",
       "respondent_id                                                               \n",
       "0                    oxchjgsf                   Non-MSA               0.0   \n",
       "1                    bhuqouqj  MSA, Not Principle  City               0.0   \n",
       "2                    qufhixun  MSA, Not Principle  City               2.0   \n",
       "3                    lrircsnp       MSA, Principle City               0.0   \n",
       "4                    qufhixun  MSA, Not Principle  City               1.0   \n",
       "\n",
       "               household_children  employment_industry  employment_occupation  \\\n",
       "respondent_id                                                                   \n",
       "0                             0.0                  NaN                    NaN   \n",
       "1                             0.0             pxcmvdjn               xgwztkwe   \n",
       "2                             0.0             rucpziij               xtkaffoo   \n",
       "3                             0.0                  NaN                    NaN   \n",
       "4                             0.0             wxleyezf               emcorrxb   \n",
       "\n",
       "               h1n1_vaccine  seasonal_vaccine  \n",
       "respondent_id                                  \n",
       "0                         0                 0  \n",
       "1                         0                 1  \n",
       "2                         0                 0  \n",
       "3                         0                 1  \n",
       "4                         0                 0  \n",
       "\n",
       "[5 rows x 37 columns]"
      ]
     },
     "execution_count": 17,
     "metadata": {},
     "output_type": "execute_result"
    }
   ],
   "source": [
    "joined_df = features_df.join(labels_df)\n",
    "print(joined_df.shape)\n",
    "joined_df.head()"
   ]
  },
  {
   "cell_type": "markdown",
   "metadata": {},
   "source": [
    "### Prototipando um Gráfico\n",
    "\n",
    "A seguir, vamos ver como os recursos estão correlacionados com as variáveis ​​de destino. Começaremos tentando visualizar se existe correlação bivariada simples. Se um recurso estiver correlacionado com o alvo, esperaríamos que houvesse diferentes padrões de vacinação à medida que você variasse os valores do recurso.\n",
    "\n",
    "Ir direto para a visualização final correta é difícil. Em vez disso, podemos escolher um recurso e um alvo e trabalhar até chegar a um protótipo, antes de aplicá-lo a mais recursos e a ambos os alvos. Usaremos h1n1_concern, o nível de preocupação que a pessoa demonstrou em relação à gripe H1N1, e h1n1_vaccinecomo variável alvo.\n",
    "\n",
    "Primeiro, obteremos a contagem de observações para cada combinação dessas duas variáveis."
   ]
  },
  {
   "cell_type": "code",
   "execution_count": 18,
   "metadata": {},
   "outputs": [],
   "source": [
    "counts = (joined_df[['h1n1_concern', 'h1n1_vaccine']]\n",
    "          .groupby(['h1n1_concern', 'h1n1_vaccine'])\n",
    "          .size()\n",
    "          .unstack('h1n1_vaccine') \n",
    "        )"
   ]
  },
  {
   "cell_type": "code",
   "execution_count": 19,
   "metadata": {},
   "outputs": [
    {
     "data": {
      "text/html": [
       "<div>\n",
       "<style scoped>\n",
       "    .dataframe tbody tr th:only-of-type {\n",
       "        vertical-align: middle;\n",
       "    }\n",
       "\n",
       "    .dataframe tbody tr th {\n",
       "        vertical-align: top;\n",
       "    }\n",
       "\n",
       "    .dataframe thead th {\n",
       "        text-align: right;\n",
       "    }\n",
       "</style>\n",
       "<table border=\"1\" class=\"dataframe\">\n",
       "  <thead>\n",
       "    <tr style=\"text-align: right;\">\n",
       "      <th>h1n1_vaccine</th>\n",
       "      <th>0</th>\n",
       "      <th>1</th>\n",
       "    </tr>\n",
       "    <tr>\n",
       "      <th>h1n1_concern</th>\n",
       "      <th></th>\n",
       "      <th></th>\n",
       "    </tr>\n",
       "  </thead>\n",
       "  <tbody>\n",
       "    <tr>\n",
       "      <th>0.0</th>\n",
       "      <td>2849</td>\n",
       "      <td>447</td>\n",
       "    </tr>\n",
       "    <tr>\n",
       "      <th>1.0</th>\n",
       "      <td>6756</td>\n",
       "      <td>1397</td>\n",
       "    </tr>\n",
       "    <tr>\n",
       "      <th>2.0</th>\n",
       "      <td>8102</td>\n",
       "      <td>2473</td>\n",
       "    </tr>\n",
       "    <tr>\n",
       "      <th>3.0</th>\n",
       "      <td>3250</td>\n",
       "      <td>1341</td>\n",
       "    </tr>\n",
       "  </tbody>\n",
       "</table>\n",
       "</div>"
      ],
      "text/plain": [
       "h1n1_vaccine     0     1\n",
       "h1n1_concern            \n",
       "0.0           2849   447\n",
       "1.0           6756  1397\n",
       "2.0           8102  2473\n",
       "3.0           3250  1341"
      ]
     },
     "execution_count": 19,
     "metadata": {},
     "output_type": "execute_result"
    }
   ],
   "source": [
    "counts"
   ]
  },
  {
   "cell_type": "markdown",
   "metadata": {},
   "source": [
    "É difícil observar esses números brutos e ver os padrões com clareza. Vamos colocar isso em um gráfico de barras. Compararemos como os tamanhos dos grupos mudam conforme você varia h1n1_concern."
   ]
  },
  {
   "cell_type": "code",
   "execution_count": 20,
   "metadata": {},
   "outputs": [
    {
     "data": {
      "text/plain": [
       "<matplotlib.legend.Legend at 0x1ff25bf7e90>"
      ]
     },
     "execution_count": 20,
     "metadata": {},
     "output_type": "execute_result"
    },
    {
     "data": {
      "image/png": "[encoded data removed]",
      "text/plain": [
       "<Figure size 640x480 with 1 Axes>"
      ]
     },
     "metadata": {},
     "output_type": "display_data"
    }
   ],
   "source": [
    "ax = counts.plot.barh()\n",
    "ax.invert_yaxis()\n",
    "ax.legend(\n",
    "    loc='center right', \n",
    "    bbox_to_anchor=(1.3, 0.5), \n",
    "    title='h1n1_vaccine'\n",
    ")"
   ]
  },
  {
   "cell_type": "markdown",
   "metadata": {},
   "source": [
    " j - As pessoas que considera o nível de preocupação com 2 tem maior conversão em vacina contra h1n1"
   ]
  },
  {
   "cell_type": "markdown",
   "metadata": {},
   "source": [
    "Infelizmente, ainda é difícil dizer se h1n1_concernos níveis mostram diferenças na probabilidade de alguém ser vacinado. Como as duas classes estão desequilibradas, vemos apenas menos observações de vacinados para cada nível de vacinação h1n1_concern. Ele inunda quaisquer outras tendências que possam existir.\n",
    "\n",
    "Em vez disso, observemos a taxa de vacinação para cada nível de h1n1_concern."
   ]
  },
  {
   "cell_type": "code",
   "execution_count": 21,
   "metadata": {},
   "outputs": [],
   "source": [
    "h1n1_concern_counts = counts.sum(axis='columns')"
   ]
  },
  {
   "cell_type": "code",
   "execution_count": 22,
   "metadata": {},
   "outputs": [
    {
     "data": {
      "text/plain": [
       "h1n1_concern\n",
       "0.0     3296\n",
       "1.0     8153\n",
       "2.0    10575\n",
       "3.0     4591\n",
       "dtype: int64"
      ]
     },
     "execution_count": 22,
     "metadata": {},
     "output_type": "execute_result"
    }
   ],
   "source": [
    "h1n1_concern_counts"
   ]
  },
  {
   "cell_type": "code",
   "execution_count": 23,
   "metadata": {},
   "outputs": [
    {
     "data": {
      "text/html": [
       "<div>\n",
       "<style scoped>\n",
       "    .dataframe tbody tr th:only-of-type {\n",
       "        vertical-align: middle;\n",
       "    }\n",
       "\n",
       "    .dataframe tbody tr th {\n",
       "        vertical-align: top;\n",
       "    }\n",
       "\n",
       "    .dataframe thead th {\n",
       "        text-align: right;\n",
       "    }\n",
       "</style>\n",
       "<table border=\"1\" class=\"dataframe\">\n",
       "  <thead>\n",
       "    <tr style=\"text-align: right;\">\n",
       "      <th>h1n1_vaccine</th>\n",
       "      <th>0</th>\n",
       "      <th>1</th>\n",
       "    </tr>\n",
       "    <tr>\n",
       "      <th>h1n1_concern</th>\n",
       "      <th></th>\n",
       "      <th></th>\n",
       "    </tr>\n",
       "  </thead>\n",
       "  <tbody>\n",
       "    <tr>\n",
       "      <th>0.0</th>\n",
       "      <td>2849</td>\n",
       "      <td>447</td>\n",
       "    </tr>\n",
       "    <tr>\n",
       "      <th>1.0</th>\n",
       "      <td>6756</td>\n",
       "      <td>1397</td>\n",
       "    </tr>\n",
       "    <tr>\n",
       "      <th>2.0</th>\n",
       "      <td>8102</td>\n",
       "      <td>2473</td>\n",
       "    </tr>\n",
       "    <tr>\n",
       "      <th>3.0</th>\n",
       "      <td>3250</td>\n",
       "      <td>1341</td>\n",
       "    </tr>\n",
       "  </tbody>\n",
       "</table>\n",
       "</div>"
      ],
      "text/plain": [
       "h1n1_vaccine     0     1\n",
       "h1n1_concern            \n",
       "0.0           2849   447\n",
       "1.0           6756  1397\n",
       "2.0           8102  2473\n",
       "3.0           3250  1341"
      ]
     },
     "execution_count": 23,
     "metadata": {},
     "output_type": "execute_result"
    }
   ],
   "source": [
    "counts"
   ]
  },
  {
   "cell_type": "markdown",
   "metadata": {},
   "source": [
    "Olhando a taxa em %"
   ]
  },
  {
   "cell_type": "code",
   "execution_count": 24,
   "metadata": {},
   "outputs": [
    {
     "data": {
      "text/html": [
       "<div>\n",
       "<style scoped>\n",
       "    .dataframe tbody tr th:only-of-type {\n",
       "        vertical-align: middle;\n",
       "    }\n",
       "\n",
       "    .dataframe tbody tr th {\n",
       "        vertical-align: top;\n",
       "    }\n",
       "\n",
       "    .dataframe thead th {\n",
       "        text-align: right;\n",
       "    }\n",
       "</style>\n",
       "<table border=\"1\" class=\"dataframe\">\n",
       "  <thead>\n",
       "    <tr style=\"text-align: right;\">\n",
       "      <th>h1n1_vaccine</th>\n",
       "      <th>0</th>\n",
       "      <th>1</th>\n",
       "    </tr>\n",
       "    <tr>\n",
       "      <th>h1n1_concern</th>\n",
       "      <th></th>\n",
       "      <th></th>\n",
       "    </tr>\n",
       "  </thead>\n",
       "  <tbody>\n",
       "    <tr>\n",
       "      <th>0.0</th>\n",
       "      <td>0.864381</td>\n",
       "      <td>0.135619</td>\n",
       "    </tr>\n",
       "    <tr>\n",
       "      <th>1.0</th>\n",
       "      <td>0.828652</td>\n",
       "      <td>0.171348</td>\n",
       "    </tr>\n",
       "    <tr>\n",
       "      <th>2.0</th>\n",
       "      <td>0.766147</td>\n",
       "      <td>0.233853</td>\n",
       "    </tr>\n",
       "    <tr>\n",
       "      <th>3.0</th>\n",
       "      <td>0.707907</td>\n",
       "      <td>0.292093</td>\n",
       "    </tr>\n",
       "  </tbody>\n",
       "</table>\n",
       "</div>"
      ],
      "text/plain": [
       "h1n1_vaccine         0         1\n",
       "h1n1_concern                    \n",
       "0.0           0.864381  0.135619\n",
       "1.0           0.828652  0.171348\n",
       "2.0           0.766147  0.233853\n",
       "3.0           0.707907  0.292093"
      ]
     },
     "execution_count": 24,
     "metadata": {},
     "output_type": "execute_result"
    }
   ],
   "source": [
    "# counts.div(h1n1_concern_counts, axis='index'): Isso é como se você estivesse dividindo o número de cada tipo de fruta pelo total de frutas na cesta, mas de uma maneira organizada. \n",
    "#A palavra-chave axis='index' indica que você quer dividir linha por linha, ou seja, para cada tipo de fruta.\n",
    "\n",
    "props = counts.div(h1n1_concern_counts, axis='index')\n",
    "props"
   ]
  },
  {
   "cell_type": "code",
   "execution_count": 25,
   "metadata": {},
   "outputs": [
    {
     "data": {
      "text/plain": [
       "<matplotlib.legend.Legend at 0x1ff2589a090>"
      ]
     },
     "execution_count": 25,
     "metadata": {},
     "output_type": "execute_result"
    },
    {
     "data": {
      "image/png": "[encoded data removed]",
      "text/plain": [
       "<Figure size 640x480 with 1 Axes>"
      ]
     },
     "metadata": {},
     "output_type": "display_data"
    }
   ],
   "source": [
    "ax = props.plot.barh()\n",
    "ax.invert_yaxis()\n",
    "ax.legend(\n",
    "    loc='center left', \n",
    "    bbox_to_anchor=(1.05, 0.5),\n",
    "    title='h1n1_vaccine'\n",
    ")"
   ]
  },
  {
   "cell_type": "markdown",
   "metadata": {},
   "source": [
    "Agora temos uma imagem mais clara do que está acontecendo! Neste gráfico, cada par de barras azuis (sem vacina) e laranja (vacina recebida) somam 1,0. Podemos ver claramente que, embora a maioria das pessoas não tome a vacina contra o H1N1, é mais provável que o façam se tiverem um nível de preocupação mais elevado. Parece que h1n1_concernserá um recurso útil quando chegarmos à modelagem.\n",
    "\n",
    "Como cada par de barras soma 1,0 e temos apenas duas barras, este é na verdade um bom caso de uso para um gráfico de barras empilhadas, para torná-lo ainda mais fácil de ler."
   ]
  },
  {
   "cell_type": "code",
   "execution_count": 26,
   "metadata": {},
   "outputs": [
    {
     "data": {
      "text/plain": [
       "<matplotlib.legend.Legend at 0x1ff2617edd0>"
      ]
     },
     "execution_count": 26,
     "metadata": {},
     "output_type": "execute_result"
    },
    {
     "data": {
      "image/png": "[encoded data removed]",
      "text/plain": [
       "<Figure size 640x480 with 1 Axes>"
      ]
     },
     "metadata": {},
     "output_type": "display_data"
    }
   ],
   "source": [
    "ax = props.plot.barh(stacked=True)\n",
    "ax.invert_yaxis()\n",
    "ax.legend(\n",
    "    loc='center left', \n",
    "    bbox_to_anchor=(1.05, 0.5),\n",
    "    title='h1n1_vaccine'\n",
    ")"
   ]
  },
  {
   "cell_type": "markdown",
   "metadata": {},
   "source": [
    "Função para plotar gráfico para outras variáveis :"
   ]
  },
  {
   "cell_type": "code",
   "execution_count": 27,
   "metadata": {},
   "outputs": [],
   "source": [
    "def vaccination_rate_plot(col, target, data, ax=None):\n",
    "    \"\"\"Stacked bar chart of vaccination rate for `target` against \n",
    "    `col`. \n",
    "    \n",
    "    Args:\n",
    "        col (string): column name of feature variable\n",
    "        target (string): column name of target variable\n",
    "        data (pandas DataFrame): dataframe that contains columns \n",
    "            `col` and `target`\n",
    "        ax (matplotlib axes object, optional): matplotlib axes \n",
    "            object to attach plot to\n",
    "    \"\"\"\n",
    "    counts = (joined_df[[target, col]]\n",
    "                  .groupby([target, col])\n",
    "                  .size()\n",
    "                  .unstack(target)\n",
    "             )\n",
    "    group_counts = counts.sum(axis='columns')\n",
    "    props = counts.div(group_counts, axis='index')\n",
    "\n",
    "    props.plot(kind=\"barh\", stacked=True, ax=ax)\n",
    "    ax.invert_yaxis()\n",
    "    ax.legend().remove()"
   ]
  },
  {
   "cell_type": "code",
   "execution_count": 28,
   "metadata": {},
   "outputs": [
    {
     "data": {
      "image/png": "[encoded data removed]",
      "text/plain": [
       "<Figure size 900x2750 with 22 Axes>"
      ]
     },
     "metadata": {},
     "output_type": "display_data"
    }
   ],
   "source": [
    "cols_to_plot = [\n",
    "    'h1n1_concern',\n",
    "    'h1n1_knowledge',\n",
    "    'opinion_h1n1_vacc_effective',\n",
    "    'opinion_h1n1_risk',\n",
    "    'opinion_h1n1_sick_from_vacc',\n",
    "    'opinion_seas_vacc_effective',\n",
    "    'opinion_seas_risk',\n",
    "    'opinion_seas_sick_from_vacc',\n",
    "    'sex',\n",
    "    'age_group',\n",
    "    'race',\n",
    "]\n",
    "\n",
    "fig, ax = plt.subplots(\n",
    "    len(cols_to_plot), 2, figsize=(9,len(cols_to_plot)*2.5)\n",
    ")\n",
    "for idx, col in enumerate(cols_to_plot):\n",
    "    vaccination_rate_plot(\n",
    "        col, 'h1n1_vaccine', joined_df, ax=ax[idx, 0]\n",
    "    )\n",
    "    vaccination_rate_plot(\n",
    "        col, 'seasonal_vaccine', joined_df, ax=ax[idx, 1]\n",
    "    )\n",
    "    \n",
    "ax[0, 0].legend(\n",
    "    loc='lower center', bbox_to_anchor=(0.5, 1.05), title='h1n1_vaccine'\n",
    ")\n",
    "ax[0, 1].legend(\n",
    "    loc='lower center', bbox_to_anchor=(0.5, 1.05), title='seasonal_vaccine'\n",
    ")\n",
    "fig.tight_layout()"
   ]
  },
  {
   "cell_type": "markdown",
   "metadata": {},
   "source": [
    "# Construindo Modelo"
   ]
  },
  {
   "cell_type": "code",
   "execution_count": 29,
   "metadata": {},
   "outputs": [],
   "source": [
    "RANDOM_SEED = 6 # Defina uma semente aleatória para reprodutibilidade!"
   ]
  },
  {
   "cell_type": "code",
   "execution_count": 31,
   "metadata": {},
   "outputs": [
    {
     "data": {
      "text/plain": [
       "h1n1_concern                    True\n",
       "h1n1_knowledge                  True\n",
       "behavioral_antiviral_meds       True\n",
       "behavioral_avoidance            True\n",
       "behavioral_face_mask            True\n",
       "behavioral_wash_hands           True\n",
       "behavioral_large_gatherings     True\n",
       "behavioral_outside_home         True\n",
       "behavioral_touch_face           True\n",
       "doctor_recc_h1n1                True\n",
       "doctor_recc_seasonal            True\n",
       "chronic_med_condition           True\n",
       "child_under_6_months            True\n",
       "health_worker                   True\n",
       "health_insurance                True\n",
       "opinion_h1n1_vacc_effective     True\n",
       "opinion_h1n1_risk               True\n",
       "opinion_h1n1_sick_from_vacc     True\n",
       "opinion_seas_vacc_effective     True\n",
       "opinion_seas_risk               True\n",
       "opinion_seas_sick_from_vacc     True\n",
       "age_group                      False\n",
       "education                      False\n",
       "race                           False\n",
       "sex                            False\n",
       "income_poverty                 False\n",
       "marital_status                 False\n",
       "rent_or_own                    False\n",
       "employment_status              False\n",
       "hhs_geo_region                 False\n",
       "census_msa                     False\n",
       "household_adults                True\n",
       "household_children              True\n",
       "employment_industry            False\n",
       "employment_occupation          False\n",
       "dtype: bool"
      ]
     },
     "execution_count": 31,
     "metadata": {},
     "output_type": "execute_result"
    }
   ],
   "source": [
    "features_df.dtypes != \"object\""
   ]
  },
  {
   "cell_type": "code",
   "execution_count": 33,
   "metadata": {},
   "outputs": [
    {
     "name": "stdout",
     "output_type": "stream",
     "text": [
      "['h1n1_concern' 'h1n1_knowledge' 'behavioral_antiviral_meds'\n",
      " 'behavioral_avoidance' 'behavioral_face_mask' 'behavioral_wash_hands'\n",
      " 'behavioral_large_gatherings' 'behavioral_outside_home'\n",
      " 'behavioral_touch_face' 'doctor_recc_h1n1' 'doctor_recc_seasonal'\n",
      " 'chronic_med_condition' 'child_under_6_months' 'health_worker'\n",
      " 'health_insurance' 'opinion_h1n1_vacc_effective' 'opinion_h1n1_risk'\n",
      " 'opinion_h1n1_sick_from_vacc' 'opinion_seas_vacc_effective'\n",
      " 'opinion_seas_risk' 'opinion_seas_sick_from_vacc' 'household_adults'\n",
      " 'household_children']\n"
     ]
    }
   ],
   "source": [
    "# Armazenando as variáveis númericas em uma variável (Array)\n",
    "numeric_cols = features_df.columns[features_df.dtypes != \"object\"].values\n",
    "print(numeric_cols)"
   ]
  },
  {
   "cell_type": "markdown",
   "metadata": {},
   "source": [
    "# Pré-processamento "
   ]
  },
  {
   "cell_type": "markdown",
   "metadata": {},
   "source": [
    "Existem duas etapas importantes de pré-processamento de dados antes de passar para a regressão logística:\n",
    "\n",
    "Dimensionamento : Transforme todos os recursos para que estejam na mesma escala. Isso é importante ao usar a regularização, que discutiremos na próxima seção. Usaremos StandardScaler, também conhecido como escala de pontuação Z. Isso dimensiona e altera os recursos para que tenham média zero e variação unitária.\n",
    "\n",
    "Imputação de NA : A regressão logística não lida com valores de NA. Usaremos a imputação de mediana, que preenche os valores ausentes com a mediana dos dados de treinamento, implementada com SimpleImputer."
   ]
  },
  {
   "cell_type": "markdown",
   "metadata": {},
   "source": [
    "Também começaremos a usar a funcionalidade de composição integrada do Scikit-Learn para encapsular tudo em um pipeline. A construção de pipelines é uma prática recomendada para a construção de modelos de aprendizado de máquina. Entre outros benefícios , facilita a reutilização de novos dados (como nossos dados de teste). A melhor coisa sobre pipelines é que eles têm a mesma interface que transformadores e estimadores, então você pode tratá-los como se fossem."
   ]
  },
  {
   "cell_type": "code",
   "execution_count": 35,
   "metadata": {},
   "outputs": [],
   "source": [
    "# pré-processamento em cadeia em um objeto Pipeline \n",
    "# cada etapa é uma tupla de (nome que você escolheu, transformador sklearn) \n",
    "\n",
    "numeric_preprocessing_steps = Pipeline([\n",
    "    ('standard_scaler', StandardScaler()),\n",
    "    ('simple_imputer', SimpleImputer(strategy='median'))\n",
    "])\n",
    "\n",
    "\n",
    "# cria o estágio de pré-processador do pipeline final \n",
    "# cada entrada na lista de transformadores é uma tupla de \n",
    "# (nome que você escolher, transformador sklearn, lista de colunas) \n",
    "\n",
    "preprocessor = ColumnTransformer(\n",
    "    transformers = [\n",
    "        (\"numeric\", numeric_preprocessing_steps, numeric_cols)\n",
    "    ],\n",
    "    remainder = \"drop\"\n",
    ")"
   ]
  },
  {
   "cell_type": "markdown",
   "metadata": {},
   "source": [
    "A seguir, vamos definir nossos estimadores.\n",
    "\n",
    "Usaremos os hiperparâmetros padrão do scikit-learn para LogisticRegressionregularização L2 (também conhecida como Ridge) com Cvalor (força de regularização inversa) de 1. A regularização é útil porque reduz o sobreajuste. \n",
    "\n",
    "Confira a documentação do scikit-learn para LogisticRegressionler mais sobre as opções. Ao construir seu próprio modelo, você pode querer ajustar seus hiperparâmetros usando algo como GridSearchCV.\n",
    "\n",
    "Como temos dois rótulos que precisamos prever, podemos usar o do Scikit-Learn MultiOutputClassifier. Este é um atalho conveniente para treinar dois modelos do mesmo tipo e executá-los juntos."
   ]
  },
  {
   "cell_type": "markdown",
   "metadata": {},
   "source": [
    "### Estimador"
   ]
  },
  {
   "cell_type": "code",
   "execution_count": 36,
   "metadata": {},
   "outputs": [],
   "source": [
    "estimators = MultiOutputClassifier(\n",
    "    estimator=LogisticRegression(penalty=\"l2\", C=1)\n",
    ")"
   ]
  },
  {
   "cell_type": "markdown",
   "metadata": {},
   "source": [
    "# Montando o Pipeline Completo \n",
    "Colocamos os estágios de pré-processamento e estimador juntos em um objeto Pipeline, o que nos fornece uma interface para executar dados para tudo."
   ]
  },
  {
   "cell_type": "code",
   "execution_count": 37,
   "metadata": {},
   "outputs": [],
   "source": [
    "full_pipeline = Pipeline([\n",
    "    (\"preprocessor\", preprocessor),\n",
    "    (\"estimators\", estimators),\n",
    "])"
   ]
  },
  {
   "cell_type": "code",
   "execution_count": 38,
   "metadata": {},
   "outputs": [
    {
     "data": {
      "text/html": [
       "<style>#sk-container-id-1 {color: black;background-color: white;}#sk-container-id-1 pre{padding: 0;}#sk-container-id-1 div.sk-toggleable {background-color: white;}#sk-container-id-1 label.sk-toggleable__label {cursor: pointer;display: block;width: 100%;margin-bottom: 0;padding: 0.3em;box-sizing: border-box;text-align: center;}#sk-container-id-1 label.sk-toggleable__label-arrow:before {content: \"▸\";float: left;margin-right: 0.25em;color: #696969;}#sk-container-id-1 label.sk-toggleable__label-arrow:hover:before {color: black;}#sk-container-id-1 div.sk-estimator:hover label.sk-toggleable__label-arrow:before {color: black;}#sk-container-id-1 div.sk-toggleable__content {max-height: 0;max-width: 0;overflow: hidden;text-align: left;background-color: #f0f8ff;}#sk-container-id-1 div.sk-toggleable__content pre {margin: 0.2em;color: black;border-radius: 0.25em;background-color: #f0f8ff;}#sk-container-id-1 input.sk-toggleable__control:checked~div.sk-toggleable__content {max-height: 200px;max-width: 100%;overflow: auto;}#sk-container-id-1 input.sk-toggleable__control:checked~label.sk-toggleable__label-arrow:before {content: \"▾\";}#sk-container-id-1 div.sk-estimator input.sk-toggleable__control:checked~label.sk-toggleable__label {background-color: #d4ebff;}#sk-container-id-1 div.sk-label input.sk-toggleable__control:checked~label.sk-toggleable__label {background-color: #d4ebff;}#sk-container-id-1 input.sk-hidden--visually {border: 0;clip: rect(1px 1px 1px 1px);clip: rect(1px, 1px, 1px, 1px);height: 1px;margin: -1px;overflow: hidden;padding: 0;position: absolute;width: 1px;}#sk-container-id-1 div.sk-estimator {font-family: monospace;background-color: #f0f8ff;border: 1px dotted black;border-radius: 0.25em;box-sizing: border-box;margin-bottom: 0.5em;}#sk-container-id-1 div.sk-estimator:hover {background-color: #d4ebff;}#sk-container-id-1 div.sk-parallel-item::after {content: \"\";width: 100%;border-bottom: 1px solid gray;flex-grow: 1;}#sk-container-id-1 div.sk-label:hover label.sk-toggleable__label {background-color: #d4ebff;}#sk-container-id-1 div.sk-serial::before {content: \"\";position: absolute;border-left: 1px solid gray;box-sizing: border-box;top: 0;bottom: 0;left: 50%;z-index: 0;}#sk-container-id-1 div.sk-serial {display: flex;flex-direction: column;align-items: center;background-color: white;padding-right: 0.2em;padding-left: 0.2em;position: relative;}#sk-container-id-1 div.sk-item {position: relative;z-index: 1;}#sk-container-id-1 div.sk-parallel {display: flex;align-items: stretch;justify-content: center;background-color: white;position: relative;}#sk-container-id-1 div.sk-item::before, #sk-container-id-1 div.sk-parallel-item::before {content: \"\";position: absolute;border-left: 1px solid gray;box-sizing: border-box;top: 0;bottom: 0;left: 50%;z-index: -1;}#sk-container-id-1 div.sk-parallel-item {display: flex;flex-direction: column;z-index: 1;position: relative;background-color: white;}#sk-container-id-1 div.sk-parallel-item:first-child::after {align-self: flex-end;width: 50%;}#sk-container-id-1 div.sk-parallel-item:last-child::after {align-self: flex-start;width: 50%;}#sk-container-id-1 div.sk-parallel-item:only-child::after {width: 0;}#sk-container-id-1 div.sk-dashed-wrapped {border: 1px dashed gray;margin: 0 0.4em 0.5em 0.4em;box-sizing: border-box;padding-bottom: 0.4em;background-color: white;}#sk-container-id-1 div.sk-label label {font-family: monospace;font-weight: bold;display: inline-block;line-height: 1.2em;}#sk-container-id-1 div.sk-label-container {text-align: center;}#sk-container-id-1 div.sk-container {/* jupyter's `normalize.less` sets `[hidden] { display: none; }` but bootstrap.min.css set `[hidden] { display: none !important; }` so we also need the `!important` here to be able to override the default hidden behavior on the sphinx rendered scikit-learn.org. See: https://github.com/scikit-learn/scikit-learn/issues/21755 */display: inline-block !important;position: relative;}#sk-container-id-1 div.sk-text-repr-fallback {display: none;}</style><div id=\"sk-container-id-1\" class=\"sk-top-container\"><div class=\"sk-text-repr-fallback\"><pre>Pipeline(steps=[(&#x27;preprocessor&#x27;,\n",
       "                 ColumnTransformer(transformers=[(&#x27;numeric&#x27;,\n",
       "                                                  Pipeline(steps=[(&#x27;standard_scaler&#x27;,\n",
       "                                                                   StandardScaler()),\n",
       "                                                                  (&#x27;simple_imputer&#x27;,\n",
       "                                                                   SimpleImputer(strategy=&#x27;median&#x27;))]),\n",
       "                                                  array([&#x27;h1n1_concern&#x27;, &#x27;h1n1_knowledge&#x27;, &#x27;behavioral_antiviral_meds&#x27;,\n",
       "       &#x27;behavioral_avoidance&#x27;, &#x27;behavioral_face_mask&#x27;,\n",
       "       &#x27;behavioral_wash_hands&#x27;, &#x27;behavioral_large_gatherings&#x27;,\n",
       "       &#x27;...\n",
       "       &#x27;chronic_med_condition&#x27;, &#x27;child_under_6_months&#x27;, &#x27;health_worker&#x27;,\n",
       "       &#x27;health_insurance&#x27;, &#x27;opinion_h1n1_vacc_effective&#x27;,\n",
       "       &#x27;opinion_h1n1_risk&#x27;, &#x27;opinion_h1n1_sick_from_vacc&#x27;,\n",
       "       &#x27;opinion_seas_vacc_effective&#x27;, &#x27;opinion_seas_risk&#x27;,\n",
       "       &#x27;opinion_seas_sick_from_vacc&#x27;, &#x27;household_adults&#x27;,\n",
       "       &#x27;household_children&#x27;], dtype=object))])),\n",
       "                (&#x27;estimators&#x27;,\n",
       "                 MultiOutputClassifier(estimator=LogisticRegression(C=1)))])</pre><b>In a Jupyter environment, please rerun this cell to show the HTML representation or trust the notebook. <br />On GitHub, the HTML representation is unable to render, please try loading this page with nbviewer.org.</b></div><div class=\"sk-container\" hidden><div class=\"sk-item sk-dashed-wrapped\"><div class=\"sk-label-container\"><div class=\"sk-label sk-toggleable\"><input class=\"sk-toggleable__control sk-hidden--visually\" id=\"sk-estimator-id-1\" type=\"checkbox\" ><label for=\"sk-estimator-id-1\" class=\"sk-toggleable__label sk-toggleable__label-arrow\">Pipeline</label><div class=\"sk-toggleable__content\"><pre>Pipeline(steps=[(&#x27;preprocessor&#x27;,\n",
       "                 ColumnTransformer(transformers=[(&#x27;numeric&#x27;,\n",
       "                                                  Pipeline(steps=[(&#x27;standard_scaler&#x27;,\n",
       "                                                                   StandardScaler()),\n",
       "                                                                  (&#x27;simple_imputer&#x27;,\n",
       "                                                                   SimpleImputer(strategy=&#x27;median&#x27;))]),\n",
       "                                                  array([&#x27;h1n1_concern&#x27;, &#x27;h1n1_knowledge&#x27;, &#x27;behavioral_antiviral_meds&#x27;,\n",
       "       &#x27;behavioral_avoidance&#x27;, &#x27;behavioral_face_mask&#x27;,\n",
       "       &#x27;behavioral_wash_hands&#x27;, &#x27;behavioral_large_gatherings&#x27;,\n",
       "       &#x27;...\n",
       "       &#x27;chronic_med_condition&#x27;, &#x27;child_under_6_months&#x27;, &#x27;health_worker&#x27;,\n",
       "       &#x27;health_insurance&#x27;, &#x27;opinion_h1n1_vacc_effective&#x27;,\n",
       "       &#x27;opinion_h1n1_risk&#x27;, &#x27;opinion_h1n1_sick_from_vacc&#x27;,\n",
       "       &#x27;opinion_seas_vacc_effective&#x27;, &#x27;opinion_seas_risk&#x27;,\n",
       "       &#x27;opinion_seas_sick_from_vacc&#x27;, &#x27;household_adults&#x27;,\n",
       "       &#x27;household_children&#x27;], dtype=object))])),\n",
       "                (&#x27;estimators&#x27;,\n",
       "                 MultiOutputClassifier(estimator=LogisticRegression(C=1)))])</pre></div></div></div><div class=\"sk-serial\"><div class=\"sk-item sk-dashed-wrapped\"><div class=\"sk-label-container\"><div class=\"sk-label sk-toggleable\"><input class=\"sk-toggleable__control sk-hidden--visually\" id=\"sk-estimator-id-2\" type=\"checkbox\" ><label for=\"sk-estimator-id-2\" class=\"sk-toggleable__label sk-toggleable__label-arrow\">preprocessor: ColumnTransformer</label><div class=\"sk-toggleable__content\"><pre>ColumnTransformer(transformers=[(&#x27;numeric&#x27;,\n",
       "                                 Pipeline(steps=[(&#x27;standard_scaler&#x27;,\n",
       "                                                  StandardScaler()),\n",
       "                                                 (&#x27;simple_imputer&#x27;,\n",
       "                                                  SimpleImputer(strategy=&#x27;median&#x27;))]),\n",
       "                                 array([&#x27;h1n1_concern&#x27;, &#x27;h1n1_knowledge&#x27;, &#x27;behavioral_antiviral_meds&#x27;,\n",
       "       &#x27;behavioral_avoidance&#x27;, &#x27;behavioral_face_mask&#x27;,\n",
       "       &#x27;behavioral_wash_hands&#x27;, &#x27;behavioral_large_gatherings&#x27;,\n",
       "       &#x27;behavioral_outside_home&#x27;, &#x27;behavi...ch_face&#x27;,\n",
       "       &#x27;doctor_recc_h1n1&#x27;, &#x27;doctor_recc_seasonal&#x27;,\n",
       "       &#x27;chronic_med_condition&#x27;, &#x27;child_under_6_months&#x27;, &#x27;health_worker&#x27;,\n",
       "       &#x27;health_insurance&#x27;, &#x27;opinion_h1n1_vacc_effective&#x27;,\n",
       "       &#x27;opinion_h1n1_risk&#x27;, &#x27;opinion_h1n1_sick_from_vacc&#x27;,\n",
       "       &#x27;opinion_seas_vacc_effective&#x27;, &#x27;opinion_seas_risk&#x27;,\n",
       "       &#x27;opinion_seas_sick_from_vacc&#x27;, &#x27;household_adults&#x27;,\n",
       "       &#x27;household_children&#x27;], dtype=object))])</pre></div></div></div><div class=\"sk-parallel\"><div class=\"sk-parallel-item\"><div class=\"sk-item\"><div class=\"sk-label-container\"><div class=\"sk-label sk-toggleable\"><input class=\"sk-toggleable__control sk-hidden--visually\" id=\"sk-estimator-id-3\" type=\"checkbox\" ><label for=\"sk-estimator-id-3\" class=\"sk-toggleable__label sk-toggleable__label-arrow\">numeric</label><div class=\"sk-toggleable__content\"><pre>[&#x27;h1n1_concern&#x27; &#x27;h1n1_knowledge&#x27; &#x27;behavioral_antiviral_meds&#x27;\n",
       " &#x27;behavioral_avoidance&#x27; &#x27;behavioral_face_mask&#x27; &#x27;behavioral_wash_hands&#x27;\n",
       " &#x27;behavioral_large_gatherings&#x27; &#x27;behavioral_outside_home&#x27;\n",
       " &#x27;behavioral_touch_face&#x27; &#x27;doctor_recc_h1n1&#x27; &#x27;doctor_recc_seasonal&#x27;\n",
       " &#x27;chronic_med_condition&#x27; &#x27;child_under_6_months&#x27; &#x27;health_worker&#x27;\n",
       " &#x27;health_insurance&#x27; &#x27;opinion_h1n1_vacc_effective&#x27; &#x27;opinion_h1n1_risk&#x27;\n",
       " &#x27;opinion_h1n1_sick_from_vacc&#x27; &#x27;opinion_seas_vacc_effective&#x27;\n",
       " &#x27;opinion_seas_risk&#x27; &#x27;opinion_seas_sick_from_vacc&#x27; &#x27;household_adults&#x27;\n",
       " &#x27;household_children&#x27;]</pre></div></div></div><div class=\"sk-serial\"><div class=\"sk-item\"><div class=\"sk-serial\"><div class=\"sk-item\"><div class=\"sk-estimator sk-toggleable\"><input class=\"sk-toggleable__control sk-hidden--visually\" id=\"sk-estimator-id-4\" type=\"checkbox\" ><label for=\"sk-estimator-id-4\" class=\"sk-toggleable__label sk-toggleable__label-arrow\">StandardScaler</label><div class=\"sk-toggleable__content\"><pre>StandardScaler()</pre></div></div></div><div class=\"sk-item\"><div class=\"sk-estimator sk-toggleable\"><input class=\"sk-toggleable__control sk-hidden--visually\" id=\"sk-estimator-id-5\" type=\"checkbox\" ><label for=\"sk-estimator-id-5\" class=\"sk-toggleable__label sk-toggleable__label-arrow\">SimpleImputer</label><div class=\"sk-toggleable__content\"><pre>SimpleImputer(strategy=&#x27;median&#x27;)</pre></div></div></div></div></div></div></div></div></div></div><div class=\"sk-item sk-dashed-wrapped\"><div class=\"sk-label-container\"><div class=\"sk-label sk-toggleable\"><input class=\"sk-toggleable__control sk-hidden--visually\" id=\"sk-estimator-id-6\" type=\"checkbox\" ><label for=\"sk-estimator-id-6\" class=\"sk-toggleable__label sk-toggleable__label-arrow\">estimators: MultiOutputClassifier</label><div class=\"sk-toggleable__content\"><pre>MultiOutputClassifier(estimator=LogisticRegression(C=1))</pre></div></div></div><div class=\"sk-parallel\"><div class=\"sk-parallel-item\"><div class=\"sk-item\"><div class=\"sk-label-container\"><div class=\"sk-label sk-toggleable\"><input class=\"sk-toggleable__control sk-hidden--visually\" id=\"sk-estimator-id-7\" type=\"checkbox\" ><label for=\"sk-estimator-id-7\" class=\"sk-toggleable__label sk-toggleable__label-arrow\">estimator: LogisticRegression</label><div class=\"sk-toggleable__content\"><pre>LogisticRegression(C=1)</pre></div></div></div><div class=\"sk-serial\"><div class=\"sk-item\"><div class=\"sk-estimator sk-toggleable\"><input class=\"sk-toggleable__control sk-hidden--visually\" id=\"sk-estimator-id-8\" type=\"checkbox\" ><label for=\"sk-estimator-id-8\" class=\"sk-toggleable__label sk-toggleable__label-arrow\">LogisticRegression</label><div class=\"sk-toggleable__content\"><pre>LogisticRegression(C=1)</pre></div></div></div></div></div></div></div></div></div></div></div></div>"
      ],
      "text/plain": [
       "Pipeline(steps=[('preprocessor',\n",
       "                 ColumnTransformer(transformers=[('numeric',\n",
       "                                                  Pipeline(steps=[('standard_scaler',\n",
       "                                                                   StandardScaler()),\n",
       "                                                                  ('simple_imputer',\n",
       "                                                                   SimpleImputer(strategy='median'))]),\n",
       "                                                  array(['h1n1_concern', 'h1n1_knowledge', 'behavioral_antiviral_meds',\n",
       "       'behavioral_avoidance', 'behavioral_face_mask',\n",
       "       'behavioral_wash_hands', 'behavioral_large_gatherings',\n",
       "       '...\n",
       "       'chronic_med_condition', 'child_under_6_months', 'health_worker',\n",
       "       'health_insurance', 'opinion_h1n1_vacc_effective',\n",
       "       'opinion_h1n1_risk', 'opinion_h1n1_sick_from_vacc',\n",
       "       'opinion_seas_vacc_effective', 'opinion_seas_risk',\n",
       "       'opinion_seas_sick_from_vacc', 'household_adults',\n",
       "       'household_children'], dtype=object))])),\n",
       "                ('estimators',\n",
       "                 MultiOutputClassifier(estimator=LogisticRegression(C=1)))])"
      ]
     },
     "execution_count": 38,
     "metadata": {},
     "output_type": "execute_result"
    }
   ],
   "source": [
    "full_pipeline"
   ]
  },
  {
   "cell_type": "markdown",
   "metadata": {},
   "source": [
    "# Treinando e Teste (Avaliação)"
   ]
  },
  {
   "cell_type": "markdown",
   "metadata": {},
   "source": [
    "Lembre-se que anteriormente na nossa análise exploratória, as h1n1_vaccineclasses de rótulos estavam moderadamente desequilibradas. Às vezes, isso pode levar a divisões desequilibradas, o que pode levar a problemas de generalização no ajuste e/ou avaliação do modelo. Devemos ter um conjunto de dados grande o suficiente para que uma divisão embaralhada aleatoriamente mantenha as mesmas proporções, mas podemos usar o stratifyargumento para impor divisões pares."
   ]
  },
  {
   "cell_type": "code",
   "execution_count": 39,
   "metadata": {},
   "outputs": [],
   "source": [
    "X_train, X_eval, y_train, y_eval = train_test_split(\n",
    "    features_df,\n",
    "    labels_df,\n",
    "    test_size=0.33,\n",
    "    shuffle=True,\n",
    "    stratify=labels_df,\n",
    "    random_state=RANDOM_SEED\n",
    ")"
   ]
  },
  {
   "cell_type": "markdown",
   "metadata": {},
   "source": [
    "# Treinando o modelo"
   ]
  },
  {
   "cell_type": "code",
   "execution_count": 40,
   "metadata": {},
   "outputs": [
    {
     "data": {
      "text/html": [
       "<style>#sk-container-id-2 {color: black;background-color: white;}#sk-container-id-2 pre{padding: 0;}#sk-container-id-2 div.sk-toggleable {background-color: white;}#sk-container-id-2 label.sk-toggleable__label {cursor: pointer;display: block;width: 100%;margin-bottom: 0;padding: 0.3em;box-sizing: border-box;text-align: center;}#sk-container-id-2 label.sk-toggleable__label-arrow:before {content: \"▸\";float: left;margin-right: 0.25em;color: #696969;}#sk-container-id-2 label.sk-toggleable__label-arrow:hover:before {color: black;}#sk-container-id-2 div.sk-estimator:hover label.sk-toggleable__label-arrow:before {color: black;}#sk-container-id-2 div.sk-toggleable__content {max-height: 0;max-width: 0;overflow: hidden;text-align: left;background-color: #f0f8ff;}#sk-container-id-2 div.sk-toggleable__content pre {margin: 0.2em;color: black;border-radius: 0.25em;background-color: #f0f8ff;}#sk-container-id-2 input.sk-toggleable__control:checked~div.sk-toggleable__content {max-height: 200px;max-width: 100%;overflow: auto;}#sk-container-id-2 input.sk-toggleable__control:checked~label.sk-toggleable__label-arrow:before {content: \"▾\";}#sk-container-id-2 div.sk-estimator input.sk-toggleable__control:checked~label.sk-toggleable__label {background-color: #d4ebff;}#sk-container-id-2 div.sk-label input.sk-toggleable__control:checked~label.sk-toggleable__label {background-color: #d4ebff;}#sk-container-id-2 input.sk-hidden--visually {border: 0;clip: rect(1px 1px 1px 1px);clip: rect(1px, 1px, 1px, 1px);height: 1px;margin: -1px;overflow: hidden;padding: 0;position: absolute;width: 1px;}#sk-container-id-2 div.sk-estimator {font-family: monospace;background-color: #f0f8ff;border: 1px dotted black;border-radius: 0.25em;box-sizing: border-box;margin-bottom: 0.5em;}#sk-container-id-2 div.sk-estimator:hover {background-color: #d4ebff;}#sk-container-id-2 div.sk-parallel-item::after {content: \"\";width: 100%;border-bottom: 1px solid gray;flex-grow: 1;}#sk-container-id-2 div.sk-label:hover label.sk-toggleable__label {background-color: #d4ebff;}#sk-container-id-2 div.sk-serial::before {content: \"\";position: absolute;border-left: 1px solid gray;box-sizing: border-box;top: 0;bottom: 0;left: 50%;z-index: 0;}#sk-container-id-2 div.sk-serial {display: flex;flex-direction: column;align-items: center;background-color: white;padding-right: 0.2em;padding-left: 0.2em;position: relative;}#sk-container-id-2 div.sk-item {position: relative;z-index: 1;}#sk-container-id-2 div.sk-parallel {display: flex;align-items: stretch;justify-content: center;background-color: white;position: relative;}#sk-container-id-2 div.sk-item::before, #sk-container-id-2 div.sk-parallel-item::before {content: \"\";position: absolute;border-left: 1px solid gray;box-sizing: border-box;top: 0;bottom: 0;left: 50%;z-index: -1;}#sk-container-id-2 div.sk-parallel-item {display: flex;flex-direction: column;z-index: 1;position: relative;background-color: white;}#sk-container-id-2 div.sk-parallel-item:first-child::after {align-self: flex-end;width: 50%;}#sk-container-id-2 div.sk-parallel-item:last-child::after {align-self: flex-start;width: 50%;}#sk-container-id-2 div.sk-parallel-item:only-child::after {width: 0;}#sk-container-id-2 div.sk-dashed-wrapped {border: 1px dashed gray;margin: 0 0.4em 0.5em 0.4em;box-sizing: border-box;padding-bottom: 0.4em;background-color: white;}#sk-container-id-2 div.sk-label label {font-family: monospace;font-weight: bold;display: inline-block;line-height: 1.2em;}#sk-container-id-2 div.sk-label-container {text-align: center;}#sk-container-id-2 div.sk-container {/* jupyter's `normalize.less` sets `[hidden] { display: none; }` but bootstrap.min.css set `[hidden] { display: none !important; }` so we also need the `!important` here to be able to override the default hidden behavior on the sphinx rendered scikit-learn.org. See: https://github.com/scikit-learn/scikit-learn/issues/21755 */display: inline-block !important;position: relative;}#sk-container-id-2 div.sk-text-repr-fallback {display: none;}</style><div id=\"sk-container-id-2\" class=\"sk-top-container\"><div class=\"sk-text-repr-fallback\"><pre>Pipeline(steps=[(&#x27;preprocessor&#x27;,\n",
       "                 ColumnTransformer(transformers=[(&#x27;numeric&#x27;,\n",
       "                                                  Pipeline(steps=[(&#x27;standard_scaler&#x27;,\n",
       "                                                                   StandardScaler()),\n",
       "                                                                  (&#x27;simple_imputer&#x27;,\n",
       "                                                                   SimpleImputer(strategy=&#x27;median&#x27;))]),\n",
       "                                                  array([&#x27;h1n1_concern&#x27;, &#x27;h1n1_knowledge&#x27;, &#x27;behavioral_antiviral_meds&#x27;,\n",
       "       &#x27;behavioral_avoidance&#x27;, &#x27;behavioral_face_mask&#x27;,\n",
       "       &#x27;behavioral_wash_hands&#x27;, &#x27;behavioral_large_gatherings&#x27;,\n",
       "       &#x27;...\n",
       "       &#x27;chronic_med_condition&#x27;, &#x27;child_under_6_months&#x27;, &#x27;health_worker&#x27;,\n",
       "       &#x27;health_insurance&#x27;, &#x27;opinion_h1n1_vacc_effective&#x27;,\n",
       "       &#x27;opinion_h1n1_risk&#x27;, &#x27;opinion_h1n1_sick_from_vacc&#x27;,\n",
       "       &#x27;opinion_seas_vacc_effective&#x27;, &#x27;opinion_seas_risk&#x27;,\n",
       "       &#x27;opinion_seas_sick_from_vacc&#x27;, &#x27;household_adults&#x27;,\n",
       "       &#x27;household_children&#x27;], dtype=object))])),\n",
       "                (&#x27;estimators&#x27;,\n",
       "                 MultiOutputClassifier(estimator=LogisticRegression(C=1)))])</pre><b>In a Jupyter environment, please rerun this cell to show the HTML representation or trust the notebook. <br />On GitHub, the HTML representation is unable to render, please try loading this page with nbviewer.org.</b></div><div class=\"sk-container\" hidden><div class=\"sk-item sk-dashed-wrapped\"><div class=\"sk-label-container\"><div class=\"sk-label sk-toggleable\"><input class=\"sk-toggleable__control sk-hidden--visually\" id=\"sk-estimator-id-9\" type=\"checkbox\" ><label for=\"sk-estimator-id-9\" class=\"sk-toggleable__label sk-toggleable__label-arrow\">Pipeline</label><div class=\"sk-toggleable__content\"><pre>Pipeline(steps=[(&#x27;preprocessor&#x27;,\n",
       "                 ColumnTransformer(transformers=[(&#x27;numeric&#x27;,\n",
       "                                                  Pipeline(steps=[(&#x27;standard_scaler&#x27;,\n",
       "                                                                   StandardScaler()),\n",
       "                                                                  (&#x27;simple_imputer&#x27;,\n",
       "                                                                   SimpleImputer(strategy=&#x27;median&#x27;))]),\n",
       "                                                  array([&#x27;h1n1_concern&#x27;, &#x27;h1n1_knowledge&#x27;, &#x27;behavioral_antiviral_meds&#x27;,\n",
       "       &#x27;behavioral_avoidance&#x27;, &#x27;behavioral_face_mask&#x27;,\n",
       "       &#x27;behavioral_wash_hands&#x27;, &#x27;behavioral_large_gatherings&#x27;,\n",
       "       &#x27;...\n",
       "       &#x27;chronic_med_condition&#x27;, &#x27;child_under_6_months&#x27;, &#x27;health_worker&#x27;,\n",
       "       &#x27;health_insurance&#x27;, &#x27;opinion_h1n1_vacc_effective&#x27;,\n",
       "       &#x27;opinion_h1n1_risk&#x27;, &#x27;opinion_h1n1_sick_from_vacc&#x27;,\n",
       "       &#x27;opinion_seas_vacc_effective&#x27;, &#x27;opinion_seas_risk&#x27;,\n",
       "       &#x27;opinion_seas_sick_from_vacc&#x27;, &#x27;household_adults&#x27;,\n",
       "       &#x27;household_children&#x27;], dtype=object))])),\n",
       "                (&#x27;estimators&#x27;,\n",
       "                 MultiOutputClassifier(estimator=LogisticRegression(C=1)))])</pre></div></div></div><div class=\"sk-serial\"><div class=\"sk-item sk-dashed-wrapped\"><div class=\"sk-label-container\"><div class=\"sk-label sk-toggleable\"><input class=\"sk-toggleable__control sk-hidden--visually\" id=\"sk-estimator-id-10\" type=\"checkbox\" ><label for=\"sk-estimator-id-10\" class=\"sk-toggleable__label sk-toggleable__label-arrow\">preprocessor: ColumnTransformer</label><div class=\"sk-toggleable__content\"><pre>ColumnTransformer(transformers=[(&#x27;numeric&#x27;,\n",
       "                                 Pipeline(steps=[(&#x27;standard_scaler&#x27;,\n",
       "                                                  StandardScaler()),\n",
       "                                                 (&#x27;simple_imputer&#x27;,\n",
       "                                                  SimpleImputer(strategy=&#x27;median&#x27;))]),\n",
       "                                 array([&#x27;h1n1_concern&#x27;, &#x27;h1n1_knowledge&#x27;, &#x27;behavioral_antiviral_meds&#x27;,\n",
       "       &#x27;behavioral_avoidance&#x27;, &#x27;behavioral_face_mask&#x27;,\n",
       "       &#x27;behavioral_wash_hands&#x27;, &#x27;behavioral_large_gatherings&#x27;,\n",
       "       &#x27;behavioral_outside_home&#x27;, &#x27;behavi...ch_face&#x27;,\n",
       "       &#x27;doctor_recc_h1n1&#x27;, &#x27;doctor_recc_seasonal&#x27;,\n",
       "       &#x27;chronic_med_condition&#x27;, &#x27;child_under_6_months&#x27;, &#x27;health_worker&#x27;,\n",
       "       &#x27;health_insurance&#x27;, &#x27;opinion_h1n1_vacc_effective&#x27;,\n",
       "       &#x27;opinion_h1n1_risk&#x27;, &#x27;opinion_h1n1_sick_from_vacc&#x27;,\n",
       "       &#x27;opinion_seas_vacc_effective&#x27;, &#x27;opinion_seas_risk&#x27;,\n",
       "       &#x27;opinion_seas_sick_from_vacc&#x27;, &#x27;household_adults&#x27;,\n",
       "       &#x27;household_children&#x27;], dtype=object))])</pre></div></div></div><div class=\"sk-parallel\"><div class=\"sk-parallel-item\"><div class=\"sk-item\"><div class=\"sk-label-container\"><div class=\"sk-label sk-toggleable\"><input class=\"sk-toggleable__control sk-hidden--visually\" id=\"sk-estimator-id-11\" type=\"checkbox\" ><label for=\"sk-estimator-id-11\" class=\"sk-toggleable__label sk-toggleable__label-arrow\">numeric</label><div class=\"sk-toggleable__content\"><pre>[&#x27;h1n1_concern&#x27; &#x27;h1n1_knowledge&#x27; &#x27;behavioral_antiviral_meds&#x27;\n",
       " &#x27;behavioral_avoidance&#x27; &#x27;behavioral_face_mask&#x27; &#x27;behavioral_wash_hands&#x27;\n",
       " &#x27;behavioral_large_gatherings&#x27; &#x27;behavioral_outside_home&#x27;\n",
       " &#x27;behavioral_touch_face&#x27; &#x27;doctor_recc_h1n1&#x27; &#x27;doctor_recc_seasonal&#x27;\n",
       " &#x27;chronic_med_condition&#x27; &#x27;child_under_6_months&#x27; &#x27;health_worker&#x27;\n",
       " &#x27;health_insurance&#x27; &#x27;opinion_h1n1_vacc_effective&#x27; &#x27;opinion_h1n1_risk&#x27;\n",
       " &#x27;opinion_h1n1_sick_from_vacc&#x27; &#x27;opinion_seas_vacc_effective&#x27;\n",
       " &#x27;opinion_seas_risk&#x27; &#x27;opinion_seas_sick_from_vacc&#x27; &#x27;household_adults&#x27;\n",
       " &#x27;household_children&#x27;]</pre></div></div></div><div class=\"sk-serial\"><div class=\"sk-item\"><div class=\"sk-serial\"><div class=\"sk-item\"><div class=\"sk-estimator sk-toggleable\"><input class=\"sk-toggleable__control sk-hidden--visually\" id=\"sk-estimator-id-12\" type=\"checkbox\" ><label for=\"sk-estimator-id-12\" class=\"sk-toggleable__label sk-toggleable__label-arrow\">StandardScaler</label><div class=\"sk-toggleable__content\"><pre>StandardScaler()</pre></div></div></div><div class=\"sk-item\"><div class=\"sk-estimator sk-toggleable\"><input class=\"sk-toggleable__control sk-hidden--visually\" id=\"sk-estimator-id-13\" type=\"checkbox\" ><label for=\"sk-estimator-id-13\" class=\"sk-toggleable__label sk-toggleable__label-arrow\">SimpleImputer</label><div class=\"sk-toggleable__content\"><pre>SimpleImputer(strategy=&#x27;median&#x27;)</pre></div></div></div></div></div></div></div></div></div></div><div class=\"sk-item sk-dashed-wrapped\"><div class=\"sk-label-container\"><div class=\"sk-label sk-toggleable\"><input class=\"sk-toggleable__control sk-hidden--visually\" id=\"sk-estimator-id-14\" type=\"checkbox\" ><label for=\"sk-estimator-id-14\" class=\"sk-toggleable__label sk-toggleable__label-arrow\">estimators: MultiOutputClassifier</label><div class=\"sk-toggleable__content\"><pre>MultiOutputClassifier(estimator=LogisticRegression(C=1))</pre></div></div></div><div class=\"sk-parallel\"><div class=\"sk-parallel-item\"><div class=\"sk-item\"><div class=\"sk-label-container\"><div class=\"sk-label sk-toggleable\"><input class=\"sk-toggleable__control sk-hidden--visually\" id=\"sk-estimator-id-15\" type=\"checkbox\" ><label for=\"sk-estimator-id-15\" class=\"sk-toggleable__label sk-toggleable__label-arrow\">estimator: LogisticRegression</label><div class=\"sk-toggleable__content\"><pre>LogisticRegression(C=1)</pre></div></div></div><div class=\"sk-serial\"><div class=\"sk-item\"><div class=\"sk-estimator sk-toggleable\"><input class=\"sk-toggleable__control sk-hidden--visually\" id=\"sk-estimator-id-16\" type=\"checkbox\" ><label for=\"sk-estimator-id-16\" class=\"sk-toggleable__label sk-toggleable__label-arrow\">LogisticRegression</label><div class=\"sk-toggleable__content\"><pre>LogisticRegression(C=1)</pre></div></div></div></div></div></div></div></div></div></div></div></div>"
      ],
      "text/plain": [
       "Pipeline(steps=[('preprocessor',\n",
       "                 ColumnTransformer(transformers=[('numeric',\n",
       "                                                  Pipeline(steps=[('standard_scaler',\n",
       "                                                                   StandardScaler()),\n",
       "                                                                  ('simple_imputer',\n",
       "                                                                   SimpleImputer(strategy='median'))]),\n",
       "                                                  array(['h1n1_concern', 'h1n1_knowledge', 'behavioral_antiviral_meds',\n",
       "       'behavioral_avoidance', 'behavioral_face_mask',\n",
       "       'behavioral_wash_hands', 'behavioral_large_gatherings',\n",
       "       '...\n",
       "       'chronic_med_condition', 'child_under_6_months', 'health_worker',\n",
       "       'health_insurance', 'opinion_h1n1_vacc_effective',\n",
       "       'opinion_h1n1_risk', 'opinion_h1n1_sick_from_vacc',\n",
       "       'opinion_seas_vacc_effective', 'opinion_seas_risk',\n",
       "       'opinion_seas_sick_from_vacc', 'household_adults',\n",
       "       'household_children'], dtype=object))])),\n",
       "                ('estimators',\n",
       "                 MultiOutputClassifier(estimator=LogisticRegression(C=1)))])"
      ]
     },
     "execution_count": 40,
     "metadata": {},
     "output_type": "execute_result"
    }
   ],
   "source": [
    "# Train model\n",
    "full_pipeline.fit(X_train, y_train)"
   ]
  },
  {
   "cell_type": "code",
   "execution_count": 42,
   "metadata": {},
   "outputs": [
    {
     "data": {
      "text/plain": [
       "[array([[0.70898963, 0.29101037],\n",
       "        [0.9022304 , 0.0977696 ],\n",
       "        [0.84459811, 0.15540189],\n",
       "        ...,\n",
       "        [0.92338263, 0.07661737],\n",
       "        [0.89632521, 0.10367479],\n",
       "        [0.92787943, 0.07212057]]),\n",
       " array([[0.52721977, 0.47278023],\n",
       "        [0.61838467, 0.38161533],\n",
       "        [0.37024394, 0.62975606],\n",
       "        ...,\n",
       "        [0.85936904, 0.14063096],\n",
       "        [0.77843342, 0.22156658],\n",
       "        [0.15115096, 0.84884904]])]"
      ]
     },
     "execution_count": 42,
     "metadata": {},
     "output_type": "execute_result"
    }
   ],
   "source": [
    "# Prever o conjunto de avaliação \n",
    "# Esta competição quer probabilidades, não rótulos \n",
    "\n",
    "preds = full_pipeline.predict_proba(X_eval)\n",
    "preds"
   ]
  },
  {
   "cell_type": "code",
   "execution_count": 43,
   "metadata": {},
   "outputs": [
    {
     "name": "stdout",
     "output_type": "stream",
     "text": [
      "test_probas[0].shape (8814, 2)\n",
      "test_probas[1].shape (8814, 2)\n"
     ]
    }
   ],
   "source": [
    "print(\"test_probas[0].shape\", preds[0].shape)\n",
    "print(\"test_probas[1].shape\", preds[1].shape)"
   ]
  },
  {
   "cell_type": "code",
   "execution_count": 45,
   "metadata": {},
   "outputs": [
    {
     "name": "stdout",
     "output_type": "stream",
     "text": [
      "y_preds.shape: (8814, 2)\n"
     ]
    },
    {
     "data": {
      "text/html": [
       "<div>\n",
       "<style scoped>\n",
       "    .dataframe tbody tr th:only-of-type {\n",
       "        vertical-align: middle;\n",
       "    }\n",
       "\n",
       "    .dataframe tbody tr th {\n",
       "        vertical-align: top;\n",
       "    }\n",
       "\n",
       "    .dataframe thead th {\n",
       "        text-align: right;\n",
       "    }\n",
       "</style>\n",
       "<table border=\"1\" class=\"dataframe\">\n",
       "  <thead>\n",
       "    <tr style=\"text-align: right;\">\n",
       "      <th></th>\n",
       "      <th>h1n1_vaccine</th>\n",
       "      <th>seasonal_vaccine</th>\n",
       "    </tr>\n",
       "    <tr>\n",
       "      <th>respondent_id</th>\n",
       "      <th></th>\n",
       "      <th></th>\n",
       "    </tr>\n",
       "  </thead>\n",
       "  <tbody>\n",
       "    <tr>\n",
       "      <th>6728</th>\n",
       "      <td>0.291010</td>\n",
       "      <td>0.472780</td>\n",
       "    </tr>\n",
       "    <tr>\n",
       "      <th>16516</th>\n",
       "      <td>0.097770</td>\n",
       "      <td>0.381615</td>\n",
       "    </tr>\n",
       "    <tr>\n",
       "      <th>3106</th>\n",
       "      <td>0.155402</td>\n",
       "      <td>0.629756</td>\n",
       "    </tr>\n",
       "    <tr>\n",
       "      <th>16981</th>\n",
       "      <td>0.661791</td>\n",
       "      <td>0.857876</td>\n",
       "    </tr>\n",
       "    <tr>\n",
       "      <th>19111</th>\n",
       "      <td>0.284478</td>\n",
       "      <td>0.776927</td>\n",
       "    </tr>\n",
       "  </tbody>\n",
       "</table>\n",
       "</div>"
      ],
      "text/plain": [
       "               h1n1_vaccine  seasonal_vaccine\n",
       "respondent_id                                \n",
       "6728               0.291010          0.472780\n",
       "16516              0.097770          0.381615\n",
       "3106               0.155402          0.629756\n",
       "16981              0.661791          0.857876\n",
       "19111              0.284478          0.776927"
      ]
     },
     "execution_count": 45,
     "metadata": {},
     "output_type": "execute_result"
    }
   ],
   "source": [
    "y_preds = pd.DataFrame(\n",
    "    {\n",
    "        \"h1n1_vaccine\": preds[0][:, 1],\n",
    "        \"seasonal_vaccine\": preds[1][:, 1],\n",
    "    },\n",
    "    index = y_eval.index\n",
    ")\n",
    "print(\"y_preds.shape:\", y_preds.shape)\n",
    "y_preds.head()"
   ]
  },
  {
   "cell_type": "markdown",
   "metadata": {},
   "source": [
    "Esta competição usa ROC AUC como métrica. Vamos traçar curvas ROC e dar uma olhada. Infelizmente, o conveniente do scikit-learn plot_roc_curvenão suporta multilabel, então precisaremos fazer o gráfico nós mesmos."
   ]
  },
  {
   "cell_type": "code",
   "execution_count": 46,
   "metadata": {},
   "outputs": [],
   "source": [
    "def plot_roc(y_true, y_score, label_name, ax):\n",
    "    fpr, tpr, thresholds = roc_curve(y_true, y_score)\n",
    "    ax.plot(fpr, tpr)\n",
    "    ax.plot([0, 1], [0, 1], color='grey', linestyle='--')\n",
    "    ax.set_ylabel('TPR')\n",
    "    ax.set_xlabel('FPR')\n",
    "    ax.set_title(\n",
    "        f\"{label_name}: AUC = {roc_auc_score(y_true, y_score):.4f}\"\n",
    "    )"
   ]
  },
  {
   "cell_type": "code",
   "execution_count": 47,
   "metadata": {},
   "outputs": [
    {
     "data": {
      "image/png": "[encoded data removed]",
      "text/plain": [
       "<Figure size 700x350 with 2 Axes>"
      ]
     },
     "metadata": {},
     "output_type": "display_data"
    }
   ],
   "source": [
    "fig, ax = plt.subplots(1, 2, figsize=(7, 3.5))\n",
    "\n",
    "plot_roc(\n",
    "    y_eval['h1n1_vaccine'], \n",
    "    y_preds['h1n1_vaccine'], \n",
    "    'h1n1_vaccine',\n",
    "    ax=ax[0]\n",
    ")\n",
    "plot_roc(\n",
    "    y_eval['seasonal_vaccine'], \n",
    "    y_preds['seasonal_vaccine'], \n",
    "    'seasonal_vaccine',\n",
    "    ax=ax[1]\n",
    ")\n",
    "fig.tight_layout()"
   ]
  },
  {
   "cell_type": "markdown",
   "metadata": {},
   "source": [
    "Uma pontuação AUC de 0,5 não é melhor que aleatória, e uma pontuação AUC de 1,0 é um modelo perfeito. Ambos os modelos parecem ter desempenho semelhante. Nossas pontuações em torno de 0,83 não são ótimas, mas também não são ruins!\n",
    "\n",
    "A métrica de concorrência é a média entre estes dois valores de AUC. O Scikit-learn suporta multilabel, então podemos usá-lo diretamente.roc_auc_score"
   ]
  },
  {
   "cell_type": "code",
   "execution_count": 48,
   "metadata": {},
   "outputs": [
    {
     "data": {
      "text/plain": [
       "0.8294712007285718"
      ]
     },
     "execution_count": 48,
     "metadata": {},
     "output_type": "execute_result"
    }
   ],
   "source": [
    "roc_auc_score ( y_eval ,  y_preds )"
   ]
  },
  {
   "cell_type": "markdown",
   "metadata": {},
   "source": [
    "# Retreinar modelo em conjunto de dados completo \n",
    "Agora que temos uma ideia do nosso desempenho, vamos treinar novamente nosso modelo no conjunto de dados completo antes de gerar nossas previsões no conjunto de testes."
   ]
  },
  {
   "cell_type": "code",
   "execution_count": 49,
   "metadata": {},
   "outputs": [
    {
     "name": "stdout",
     "output_type": "stream",
     "text": [
      "CPU times: total: 62.5 ms\n",
      "Wall time: 127 ms\n"
     ]
    }
   ],
   "source": [
    "%%time \n",
    "\n",
    "full_pipeline.fit(features_df, labels_df)\n",
    "\n",
    "None   # So we don't print out the whole pipeline representation"
   ]
  },
  {
   "cell_type": "markdown",
   "metadata": {},
   "source": [
    "# Gerando predições para base de teste "
   ]
  },
  {
   "cell_type": "code",
   "execution_count": 50,
   "metadata": {},
   "outputs": [],
   "source": [
    "test_features_df = pd.read_csv(\"test_set_features.csv\", index_col=\"respondent_id\")"
   ]
  },
  {
   "cell_type": "code",
   "execution_count": 51,
   "metadata": {},
   "outputs": [],
   "source": [
    "test_probas = full_pipeline.predict_proba(test_features_df)"
   ]
  },
  {
   "cell_type": "code",
   "execution_count": 52,
   "metadata": {},
   "outputs": [
    {
     "data": {
      "text/plain": [
       "[array([[0.87280333, 0.12719667],\n",
       "        [0.94475602, 0.05524398],\n",
       "        [0.62906951, 0.37093049],\n",
       "        ...,\n",
       "        [0.80411015, 0.19588985],\n",
       "        [0.9492446 , 0.0507554 ],\n",
       "        [0.38421362, 0.61578638]]),\n",
       " array([[0.57359831, 0.42640169],\n",
       "        [0.92876678, 0.07123322],\n",
       "        [0.3626162 , 0.6373838 ],\n",
       "        ...,\n",
       "        [0.59872448, 0.40127552],\n",
       "        [0.68003071, 0.31996929],\n",
       "        [0.35787941, 0.64212059]])]"
      ]
     },
     "execution_count": 52,
     "metadata": {},
     "output_type": "execute_result"
    }
   ],
   "source": [
    "test_probas"
   ]
  },
  {
   "cell_type": "markdown",
   "metadata": {},
   "source": [
    "# Submission"
   ]
  },
  {
   "cell_type": "markdown",
   "metadata": {},
   "source": [
    "Vamos ler o arquivo no formato de envio para que possamos colocar nossas previsões nele."
   ]
  },
  {
   "cell_type": "code",
   "execution_count": 53,
   "metadata": {},
   "outputs": [],
   "source": [
    "submission_df = pd.read_csv(\"submission_format.csv\", index_col=\"respondent_id\")"
   ]
  },
  {
   "cell_type": "code",
   "execution_count": 54,
   "metadata": {},
   "outputs": [
    {
     "data": {
      "text/html": [
       "<div>\n",
       "<style scoped>\n",
       "    .dataframe tbody tr th:only-of-type {\n",
       "        vertical-align: middle;\n",
       "    }\n",
       "\n",
       "    .dataframe tbody tr th {\n",
       "        vertical-align: top;\n",
       "    }\n",
       "\n",
       "    .dataframe thead th {\n",
       "        text-align: right;\n",
       "    }\n",
       "</style>\n",
       "<table border=\"1\" class=\"dataframe\">\n",
       "  <thead>\n",
       "    <tr style=\"text-align: right;\">\n",
       "      <th></th>\n",
       "      <th>h1n1_vaccine</th>\n",
       "      <th>seasonal_vaccine</th>\n",
       "    </tr>\n",
       "    <tr>\n",
       "      <th>respondent_id</th>\n",
       "      <th></th>\n",
       "      <th></th>\n",
       "    </tr>\n",
       "  </thead>\n",
       "  <tbody>\n",
       "    <tr>\n",
       "      <th>26707</th>\n",
       "      <td>0.5</td>\n",
       "      <td>0.7</td>\n",
       "    </tr>\n",
       "    <tr>\n",
       "      <th>26708</th>\n",
       "      <td>0.5</td>\n",
       "      <td>0.7</td>\n",
       "    </tr>\n",
       "    <tr>\n",
       "      <th>26709</th>\n",
       "      <td>0.5</td>\n",
       "      <td>0.7</td>\n",
       "    </tr>\n",
       "    <tr>\n",
       "      <th>26710</th>\n",
       "      <td>0.5</td>\n",
       "      <td>0.7</td>\n",
       "    </tr>\n",
       "    <tr>\n",
       "      <th>26711</th>\n",
       "      <td>0.5</td>\n",
       "      <td>0.7</td>\n",
       "    </tr>\n",
       "  </tbody>\n",
       "</table>\n",
       "</div>"
      ],
      "text/plain": [
       "               h1n1_vaccine  seasonal_vaccine\n",
       "respondent_id                                \n",
       "26707                   0.5               0.7\n",
       "26708                   0.5               0.7\n",
       "26709                   0.5               0.7\n",
       "26710                   0.5               0.7\n",
       "26711                   0.5               0.7"
      ]
     },
     "execution_count": 54,
     "metadata": {},
     "output_type": "execute_result"
    }
   ],
   "source": [
    "submission_df.head()"
   ]
  },
  {
   "cell_type": "code",
   "execution_count": 55,
   "metadata": {},
   "outputs": [
    {
     "data": {
      "text/html": [
       "<div>\n",
       "<style scoped>\n",
       "    .dataframe tbody tr th:only-of-type {\n",
       "        vertical-align: middle;\n",
       "    }\n",
       "\n",
       "    .dataframe tbody tr th {\n",
       "        vertical-align: top;\n",
       "    }\n",
       "\n",
       "    .dataframe thead th {\n",
       "        text-align: right;\n",
       "    }\n",
       "</style>\n",
       "<table border=\"1\" class=\"dataframe\">\n",
       "  <thead>\n",
       "    <tr style=\"text-align: right;\">\n",
       "      <th></th>\n",
       "      <th>h1n1_vaccine</th>\n",
       "      <th>seasonal_vaccine</th>\n",
       "    </tr>\n",
       "    <tr>\n",
       "      <th>respondent_id</th>\n",
       "      <th></th>\n",
       "      <th></th>\n",
       "    </tr>\n",
       "  </thead>\n",
       "  <tbody>\n",
       "    <tr>\n",
       "      <th>26707</th>\n",
       "      <td>0.127197</td>\n",
       "      <td>0.426402</td>\n",
       "    </tr>\n",
       "    <tr>\n",
       "      <th>26708</th>\n",
       "      <td>0.055244</td>\n",
       "      <td>0.071233</td>\n",
       "    </tr>\n",
       "    <tr>\n",
       "      <th>26709</th>\n",
       "      <td>0.370930</td>\n",
       "      <td>0.637384</td>\n",
       "    </tr>\n",
       "    <tr>\n",
       "      <th>26710</th>\n",
       "      <td>0.464351</td>\n",
       "      <td>0.803446</td>\n",
       "    </tr>\n",
       "    <tr>\n",
       "      <th>26711</th>\n",
       "      <td>0.286673</td>\n",
       "      <td>0.634903</td>\n",
       "    </tr>\n",
       "  </tbody>\n",
       "</table>\n",
       "</div>"
      ],
      "text/plain": [
       "               h1n1_vaccine  seasonal_vaccine\n",
       "respondent_id                                \n",
       "26707              0.127197          0.426402\n",
       "26708              0.055244          0.071233\n",
       "26709              0.370930          0.637384\n",
       "26710              0.464351          0.803446\n",
       "26711              0.286673          0.634903"
      ]
     },
     "execution_count": 55,
     "metadata": {},
     "output_type": "execute_result"
    }
   ],
   "source": [
    "# Make sure we have the rows in the same order\n",
    "np.testing.assert_array_equal(test_features_df.index.values, \n",
    "                              submission_df.index.values)\n",
    "\n",
    "# Save predictions to submission data frame\n",
    "submission_df[\"h1n1_vaccine\"] = test_probas[0][:, 1]\n",
    "submission_df[\"seasonal_vaccine\"] = test_probas[1][:, 1]\n",
    "\n",
    "submission_df.head()"
   ]
  },
  {
   "cell_type": "code",
   "execution_count": 56,
   "metadata": {},
   "outputs": [],
   "source": [
    "submission_df.to_csv('my_submission.csv', index=True)"
   ]
  },
  {
   "cell_type": "code",
   "execution_count": null,
   "metadata": {},
   "outputs": [],
   "source": []
  }
 ],
 "metadata": {
  "kernelspec": {
   "display_name": "Python 3",
   "language": "python",
   "name": "python3"
  },
  "language_info": {
   "codemirror_mode": {
    "name": "ipython",
    "version": 3
   },
   "file_extension": ".py",
   "mimetype": "text/x-python",
   "name": "python",
   "nbconvert_exporter": "python",
   "pygments_lexer": "ipython3",
   "version": "3.11.2"
  }
 },
 "nbformat": 4,
 "nbformat_minor": 2
}
